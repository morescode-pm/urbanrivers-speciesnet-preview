{
 "cells": [
  {
   "cell_type": "code",
   "execution_count": 3,
   "id": "868207e3",
   "metadata": {},
   "outputs": [],
   "source": [
    "# import packages\n",
    "from pymongo import MongoClient\n",
    "from dotenv import load_dotenv\n",
    "import pandas as pd\n",
    "import os\n",
    "import re"
   ]
  },
  {
   "cell_type": "code",
   "execution_count": 4,
   "id": "4cff0f05",
   "metadata": {},
   "outputs": [
    {
     "name": "stdout",
     "output_type": "stream",
     "text": [
      "            timestamp                                          publicURL  \\\n",
      "0 2024-01-27 13:33:15  https://urbanriverrangers.s3.amazonaws.com/ima...   \n",
      "1 2024-01-24 18:56:50  https://urbanriverrangers.s3.amazonaws.com/ima...   \n",
      "2 2024-01-24 19:01:54  https://urbanriverrangers.s3.amazonaws.com/ima...   \n",
      "3 2024-01-24 19:03:05  https://urbanriverrangers.s3.amazonaws.com/ima...   \n",
      "4 2024-01-24 19:04:19  https://urbanriverrangers.s3.amazonaws.com/ima...   \n",
      "\n",
      "       fileName                               folderName  \n",
      "0  SYFW0060.JPG                   2024-01-30_prologis_02  \n",
      "1  SYFW0001.JPG  2024-01-30_Learnin_platform_camera_test  \n",
      "2  SYFW0002.JPG  2024-01-30_Learnin_platform_camera_test  \n",
      "3  SYFW0004.JPG  2024-01-30_Learnin_platform_camera_test  \n",
      "4  SYFW0006.JPG  2024-01-30_Learnin_platform_camera_test  \n"
     ]
    }
   ],
   "source": [
    "# Connect to MongoDB and retrieve image URLs and metadata\n",
    "\n",
    "# Load the dotenv file\n",
    "load_dotenv()\n",
    "\n",
    "# Grab the MONGO_URI from local or from Kaggle\n",
    "mongo_uri = os.getenv('MONGO_URI')\n",
    "\n",
    "# Connect to the MongoDB client\n",
    "client = MongoClient(mongo_uri)\n",
    " \n",
    "# Access the database and collection\n",
    "db = client['test']  # Replace with your database name\n",
    "collection = db['cameratrapmedias']  # Replace with your collection name\n",
    " \n",
    "# Query the collection to retrieve the first 150 records with image URLs, metadata, and the first index of 'relativePath'\n",
    "data = list(collection.aggregate([\n",
    "    {\n",
    "        '$project': {\n",
    "            '_id': 0,\n",
    "            'publicURL': 1,\n",
    "            'timestamp': 1,\n",
    "            'folderName': { '$arrayElemAt': ['$relativePath', 1] },\n",
    "            'fileName': 1\n",
    "        }\n",
    "    },\n",
    "    # { '$limit': 1500 }\n",
    "]))\n",
    " \n",
    "# Convert the data to a pandas DataFrame for exploration\n",
    "df = pd.DataFrame(data)\n",
    "print(df.head())"
   ]
  },
  {
   "cell_type": "code",
   "execution_count": 5,
   "id": "f270cf84",
   "metadata": {},
   "outputs": [
    {
     "name": "stdout",
     "output_type": "stream",
     "text": [
      "            timestamp                                          publicURL  \\\n",
      "0 2024-01-27 13:33:15  https://urbanriverrangers.s3.amazonaws.com/ima...   \n",
      "1 2024-01-24 18:56:50  https://urbanriverrangers.s3.amazonaws.com/ima...   \n",
      "2 2024-01-24 19:01:54  https://urbanriverrangers.s3.amazonaws.com/ima...   \n",
      "3 2024-01-24 19:03:05  https://urbanriverrangers.s3.amazonaws.com/ima...   \n",
      "4 2024-01-24 19:04:19  https://urbanriverrangers.s3.amazonaws.com/ima...   \n",
      "\n",
      "       fileName                               folderName  \\\n",
      "0  SYFW0060.JPG                   2024-01-30_prologis_02   \n",
      "1  SYFW0001.JPG  2024-01-30_Learnin_platform_camera_test   \n",
      "2  SYFW0002.JPG  2024-01-30_Learnin_platform_camera_test   \n",
      "3  SYFW0004.JPG  2024-01-30_Learnin_platform_camera_test   \n",
      "4  SYFW0006.JPG  2024-01-30_Learnin_platform_camera_test   \n",
      "\n",
      "                                           imageName  \n",
      "0               2024-01-30_prologis_02--SYFW0060.JPG  \n",
      "1  2024-01-30_Learnin_platform_camera_test--SYFW0...  \n",
      "2  2024-01-30_Learnin_platform_camera_test--SYFW0...  \n",
      "3  2024-01-30_Learnin_platform_camera_test--SYFW0...  \n",
      "4  2024-01-30_Learnin_platform_camera_test--SYFW0...  \n"
     ]
    }
   ],
   "source": [
    "\n",
    "\n",
    "# This function will format the final string\n",
    "def make_filename(s):\n",
    "    # s = s.lower()\n",
    "    s = re.sub(r'[^\\w\\s.-]', '', s) # remove special characters except dash or underscore or period\n",
    "    s = re.sub(r'\\s+', '_', s) # replace whitespace with underscore\n",
    "    return s\n",
    "\n",
    "# Combine the relative path second (folder name) + fileName\n",
    "df['imageName'] = df['folderName'] + '--' + df['fileName']\n",
    "df['imageName'] = df['imageName'].apply(make_filename)\n",
    "\n",
    "print(df.head())\n",
    "\n",
    "# Export the small array to a CSV file for preview\n",
    "df.to_csv('ur_test_medias.csv', index=False)"
   ]
  }
 ],
 "metadata": {
  "kernelspec": {
   "display_name": "kaggle",
   "language": "python",
   "name": "python3"
  },
  "language_info": {
   "codemirror_mode": {
    "name": "ipython",
    "version": 3
   },
   "file_extension": ".py",
   "mimetype": "text/x-python",
   "name": "python",
   "nbconvert_exporter": "python",
   "pygments_lexer": "ipython3",
   "version": "3.12.9"
  }
 },
 "nbformat": 4,
 "nbformat_minor": 5
}
