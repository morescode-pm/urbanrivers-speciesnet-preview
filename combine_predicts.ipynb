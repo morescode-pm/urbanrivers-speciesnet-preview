{
 "cells": [
  {
   "cell_type": "code",
   "execution_count": 2,
   "id": "4e2b9c82",
   "metadata": {},
   "outputs": [
    {
     "name": "stdout",
     "output_type": "stream",
     "text": [
      "Combined 0 predictions into predictions_dict_master.json\n"
     ]
    }
   ],
   "source": [
    "# To combine all predictions into a master predictions json file \n",
    "import json\n",
    "from pathlib import Path\n",
    "\n",
    "# Note - because we don't have all the images, we would have to sort through the exported docs folder\n",
    "runs_root = Path(\"runs\")\n",
    "output_file = \"predictions_dict_master.json\"\n",
    "\n",
    "# Master predictions list\n",
    "master_predictions = []\n",
    "\n",
    "# Loop through files matching the pattern\n",
    "for json_file in sorted(runs_root.glob(\"*/predictions_dict_*.json\")):\n",
    "    with open(json_file, \"r\") as f:\n",
    "        data = json.load(f)\n",
    "        if \"predictions\" in data:\n",
    "            master_predictions.extend(data[\"predictions\"])  # Concatenate predictions!\n",
    "        else:\n",
    "            print(f\"{json_file} missing 'predictions' key\")\n",
    "\n",
    "# Write the combined predictions to a new file\n",
    "with open(output_file, \"w\") as f:\n",
    "    json.dump({\"predictions\": master_predictions}, f, indent=2)\n",
    "\n",
    "print(f\"Combined {len(master_predictions)} predictions into {output_file}\")"
   ]
  }
 ],
 "metadata": {
  "kernelspec": {
   "display_name": "kaggle",
   "language": "python",
   "name": "python3"
  },
  "language_info": {
   "codemirror_mode": {
    "name": "ipython",
    "version": 3
   },
   "file_extension": ".py",
   "mimetype": "text/x-python",
   "name": "python",
   "nbconvert_exporter": "python",
   "pygments_lexer": "ipython3",
   "version": "3.12.9"
  }
 },
 "nbformat": 4,
 "nbformat_minor": 5
}
