{
 "cells": [
  {
   "cell_type": "markdown",
   "id": "5caebbbc",
   "metadata": {},
   "source": [
    "# Species Mismatch Analysis\n",
    "This notebook identifies species from the provided list that are not valid for Chicago, Illinois. It also generates statistics and visualizations for the mismatched species."
   ]
  },
  {
   "cell_type": "code",
   "execution_count": 1,
   "id": "d6e255de",
   "metadata": {},
   "outputs": [],
   "source": [
    "# Import Required Libraries\n",
    "import pandas as pd\n",
    "import matplotlib.pyplot as plt\n",
    "import seaborn as sns\n",
    "\n",
    "from pytaxize import scicomm"
   ]
  },
  {
   "cell_type": "markdown",
   "id": "213be5cd",
   "metadata": {},
   "source": [
    "Next, we load in the SpeciesNet taxonomy release dataset - this is the master list that speciesnet uses for classification and includes the hierarchy used to get our simple class inference."
   ]
  },
  {
   "cell_type": "code",
   "execution_count": 2,
   "id": "493cb26b",
   "metadata": {},
   "outputs": [
    {
     "data": {
      "text/html": [
       "<div>\n",
       "<style scoped>\n",
       "    .dataframe tbody tr th:only-of-type {\n",
       "        vertical-align: middle;\n",
       "    }\n",
       "\n",
       "    .dataframe tbody tr th {\n",
       "        vertical-align: top;\n",
       "    }\n",
       "\n",
       "    .dataframe thead th {\n",
       "        text-align: right;\n",
       "    }\n",
       "</style>\n",
       "<table border=\"1\" class=\"dataframe\">\n",
       "  <thead>\n",
       "    <tr style=\"text-align: right;\">\n",
       "      <th></th>\n",
       "      <th>uuid</th>\n",
       "      <th>class</th>\n",
       "      <th>order</th>\n",
       "      <th>family</th>\n",
       "      <th>genus</th>\n",
       "      <th>species</th>\n",
       "      <th>common_name</th>\n",
       "    </tr>\n",
       "  </thead>\n",
       "  <tbody>\n",
       "    <tr>\n",
       "      <th>0</th>\n",
       "      <td>00049ff0-2ffa-4d82-8cf3-c861fbbfa9d5</td>\n",
       "      <td>mammalia</td>\n",
       "      <td>rodentia</td>\n",
       "      <td>muridae</td>\n",
       "      <td>rattus</td>\n",
       "      <td>NaN</td>\n",
       "      <td>rattus species</td>\n",
       "    </tr>\n",
       "    <tr>\n",
       "      <th>1</th>\n",
       "      <td>000e4049-11cd-4630-afd6-ea16a908d5ff</td>\n",
       "      <td>mammalia</td>\n",
       "      <td>cetartiodactyla</td>\n",
       "      <td>bovidae</td>\n",
       "      <td>gazella</td>\n",
       "      <td>gazella</td>\n",
       "      <td>mountain gazelle</td>\n",
       "    </tr>\n",
       "    <tr>\n",
       "      <th>2</th>\n",
       "      <td>000f61aa-c02a-46f4-b7a7-81fe76a9212f</td>\n",
       "      <td>mammalia</td>\n",
       "      <td>carnivora</td>\n",
       "      <td>canidae</td>\n",
       "      <td>lycaon</td>\n",
       "      <td>NaN</td>\n",
       "      <td>lycaon species</td>\n",
       "    </tr>\n",
       "    <tr>\n",
       "      <th>3</th>\n",
       "      <td>001795ae-1963-47f2-91cc-9dd627643a06</td>\n",
       "      <td>mammalia</td>\n",
       "      <td>cetartiodactyla</td>\n",
       "      <td>bovidae</td>\n",
       "      <td>nesotragus</td>\n",
       "      <td>NaN</td>\n",
       "      <td>nesotragus species</td>\n",
       "    </tr>\n",
       "    <tr>\n",
       "      <th>4</th>\n",
       "      <td>00339477-70ab-42aa-9a4f-ed2cca9a028f</td>\n",
       "      <td>aves</td>\n",
       "      <td>musophagiformes</td>\n",
       "      <td>musophagidae</td>\n",
       "      <td>tauraco</td>\n",
       "      <td>schuettii</td>\n",
       "      <td>black-billed turaco</td>\n",
       "    </tr>\n",
       "  </tbody>\n",
       "</table>\n",
       "</div>"
      ],
      "text/plain": [
       "                                   uuid     class            order  \\\n",
       "0  00049ff0-2ffa-4d82-8cf3-c861fbbfa9d5  mammalia         rodentia   \n",
       "1  000e4049-11cd-4630-afd6-ea16a908d5ff  mammalia  cetartiodactyla   \n",
       "2  000f61aa-c02a-46f4-b7a7-81fe76a9212f  mammalia        carnivora   \n",
       "3  001795ae-1963-47f2-91cc-9dd627643a06  mammalia  cetartiodactyla   \n",
       "4  00339477-70ab-42aa-9a4f-ed2cca9a028f      aves  musophagiformes   \n",
       "\n",
       "         family       genus    species          common_name  \n",
       "0       muridae      rattus        NaN       rattus species  \n",
       "1       bovidae     gazella    gazella     mountain gazelle  \n",
       "2       canidae      lycaon        NaN       lycaon species  \n",
       "3       bovidae  nesotragus        NaN   nesotragus species  \n",
       "4  musophagidae     tauraco  schuettii  black-billed turaco  "
      ]
     },
     "metadata": {},
     "output_type": "display_data"
    }
   ],
   "source": [
    "# Read the file without headers\n",
    "columns = ['uuid', 'class', 'order', 'family', 'genus', 'species', 'common_name']\n",
    "df_taxa = pd.read_csv(\"taxonomy_release.txt\", \n",
    "                 delimiter=\";\", \n",
    "                 names=columns,\n",
    "                 header=None)\n",
    "\n",
    "# Display the first few rows to verify\n",
    "display(df_taxa.head())"
   ]
  },
  {
   "cell_type": "markdown",
   "id": "134cdb24",
   "metadata": {},
   "source": [
    "We can see the taxon level by sorting the dataset for each column. In the example below you can see how..\n",
    "rana species < true frogs < frogs < amphibian\n",
    "\n",
    "where ambibian is the class,\n",
    "anura is the order,\n",
    "ranidae is the family,\n",
    "rana is the genus\n",
    "\n",
    "and cane toads are:\n",
    "cane toad < marina < rhinella < bufonidae < anura < amphibia"
   ]
  },
  {
   "cell_type": "code",
   "execution_count": 3,
   "id": "2bec2258",
   "metadata": {},
   "outputs": [
    {
     "data": {
      "text/html": [
       "<div>\n",
       "<style scoped>\n",
       "    .dataframe tbody tr th:only-of-type {\n",
       "        vertical-align: middle;\n",
       "    }\n",
       "\n",
       "    .dataframe tbody tr th {\n",
       "        vertical-align: top;\n",
       "    }\n",
       "\n",
       "    .dataframe thead th {\n",
       "        text-align: right;\n",
       "    }\n",
       "</style>\n",
       "<table border=\"1\" class=\"dataframe\">\n",
       "  <thead>\n",
       "    <tr style=\"text-align: right;\">\n",
       "      <th></th>\n",
       "      <th>uuid</th>\n",
       "      <th>class</th>\n",
       "      <th>order</th>\n",
       "      <th>family</th>\n",
       "      <th>genus</th>\n",
       "      <th>species</th>\n",
       "      <th>common_name</th>\n",
       "    </tr>\n",
       "  </thead>\n",
       "  <tbody>\n",
       "    <tr>\n",
       "      <th>59</th>\n",
       "      <td>04eda76f-c0e7-4e9e-85c3-5b1542db2915</td>\n",
       "      <td>amphibia</td>\n",
       "      <td>anura</td>\n",
       "      <td>bufonidae</td>\n",
       "      <td>rhinella</td>\n",
       "      <td>marina</td>\n",
       "      <td>cane toad</td>\n",
       "    </tr>\n",
       "    <tr>\n",
       "      <th>337</th>\n",
       "      <td>17b8145a-a164-4059-a68b-47b8b7438428</td>\n",
       "      <td>amphibia</td>\n",
       "      <td>anura</td>\n",
       "      <td>ranidae</td>\n",
       "      <td>rana</td>\n",
       "      <td>NaN</td>\n",
       "      <td>rana species</td>\n",
       "    </tr>\n",
       "    <tr>\n",
       "      <th>1168</th>\n",
       "      <td>5351aa59-81ba-4c9f-b453-f7a2830ae892</td>\n",
       "      <td>amphibia</td>\n",
       "      <td>anura</td>\n",
       "      <td>ranidae</td>\n",
       "      <td>NaN</td>\n",
       "      <td>NaN</td>\n",
       "      <td>true frogs</td>\n",
       "    </tr>\n",
       "    <tr>\n",
       "      <th>2063</th>\n",
       "      <td>96632fbc-d0d0-4880-9df7-f747f6f5ec11</td>\n",
       "      <td>amphibia</td>\n",
       "      <td>anura</td>\n",
       "      <td>NaN</td>\n",
       "      <td>NaN</td>\n",
       "      <td>NaN</td>\n",
       "      <td>frogs</td>\n",
       "    </tr>\n",
       "    <tr>\n",
       "      <th>499</th>\n",
       "      <td>23a6f03b-b3d0-471b-a67d-88f10cb64e59</td>\n",
       "      <td>amphibia</td>\n",
       "      <td>NaN</td>\n",
       "      <td>NaN</td>\n",
       "      <td>NaN</td>\n",
       "      <td>NaN</td>\n",
       "      <td>amphibian</td>\n",
       "    </tr>\n",
       "  </tbody>\n",
       "</table>\n",
       "</div>"
      ],
      "text/plain": [
       "                                      uuid     class  order     family  \\\n",
       "59    04eda76f-c0e7-4e9e-85c3-5b1542db2915  amphibia  anura  bufonidae   \n",
       "337   17b8145a-a164-4059-a68b-47b8b7438428  amphibia  anura    ranidae   \n",
       "1168  5351aa59-81ba-4c9f-b453-f7a2830ae892  amphibia  anura    ranidae   \n",
       "2063  96632fbc-d0d0-4880-9df7-f747f6f5ec11  amphibia  anura        NaN   \n",
       "499   23a6f03b-b3d0-471b-a67d-88f10cb64e59  amphibia    NaN        NaN   \n",
       "\n",
       "         genus species   common_name  \n",
       "59    rhinella  marina     cane toad  \n",
       "337       rana     NaN  rana species  \n",
       "1168       NaN     NaN    true frogs  \n",
       "2063       NaN     NaN         frogs  \n",
       "499        NaN     NaN     amphibian  "
      ]
     },
     "metadata": {},
     "output_type": "display_data"
    }
   ],
   "source": [
    "# Sort taxa by level \n",
    "df_sorted = df_taxa.sort_values(by=['class', 'order', 'family', 'genus', 'species'], ascending=True)\n",
    "display(df_sorted.head())"
   ]
  },
  {
   "cell_type": "markdown",
   "id": "b34b9a90",
   "metadata": {},
   "source": [
    "Next we query the GBIF data on BigQuery to find a unique list of species within the manually makred geofence:\n",
    "\n",
    "```SQL\n",
    "WITH unique_species AS (\n",
    "    SELECT DISTINCT\n",
    "    class,\n",
    "    `order`,\n",
    "    family,\n",
    "    genus,\n",
    "    species,\n",
    "    taxonkey\n",
    "\n",
    "    FROM\n",
    "    `bigquery-public-data.gbif.occurrences` \n",
    "\n",
    "    WHERE \n",
    "    ST_WITHIN(\n",
    "        ST_GEOGPOINT(decimallongitude, decimallatitude),\n",
    "        ST_GEOGFROMTEXT('POLYGON((\n",
    "            -87.69081115722656 42.005312912238956, \n",
    "            -87.66952514648438 41.955818412264705, \n",
    "            -87.61596679687501 41.905774595463853, \n",
    "            -87.60910034179689 41.85779952612765, \n",
    "            -87.62626647949219 41.815801430687642, \n",
    "            -87.7196502685547 41.808127409160392, \n",
    "            -87.71690368652345 41.842908943268263, \n",
    "            -87.67982482910158 41.88533726561532, \n",
    "            -87.72377014160158 41.946119107705776, \n",
    "            -87.78625488281251 41.99051961904691, \n",
    "            -87.69081115722656 42.005312912238956\n",
    "        ))')\n",
    "    )\n",
    "    AND LOWER(phylum) = \"chordata\" # This is the phylum that includes mammals and birds\n",
    "    \n",
    "    LIMIT 1000 \n",
    ")\n",
    "\n",
    "SELECT\n",
    "  t1.*,\n",
    "  ARRAY_AGG(DISTINCT countrycode IGNORE NULLS) AS country_codes\n",
    "\n",
    "FROM unique_species t1\n",
    "LEFT JOIN `bigquery-public-data.gbif.occurrences` \n",
    "USING(taxonkey)\n",
    "\n",
    "GROUP BY \n",
    "  class,\n",
    "  `order`,\n",
    "  family,\n",
    "  genus,\n",
    "  species,\n",
    "  taxonkey\n",
    "```"
   ]
  },
  {
   "cell_type": "markdown",
   "id": "1dbe472c",
   "metadata": {},
   "source": [
    "Just a little cleaning to clear up the classification of species and scientific name"
   ]
  },
  {
   "cell_type": "code",
   "execution_count": 4,
   "id": "bbce2f79",
   "metadata": {},
   "outputs": [
    {
     "data": {
      "text/html": [
       "<div>\n",
       "<style scoped>\n",
       "    .dataframe tbody tr th:only-of-type {\n",
       "        vertical-align: middle;\n",
       "    }\n",
       "\n",
       "    .dataframe tbody tr th {\n",
       "        vertical-align: top;\n",
       "    }\n",
       "\n",
       "    .dataframe thead th {\n",
       "        text-align: right;\n",
       "    }\n",
       "</style>\n",
       "<table border=\"1\" class=\"dataframe\">\n",
       "  <thead>\n",
       "    <tr style=\"text-align: right;\">\n",
       "      <th></th>\n",
       "      <th>class</th>\n",
       "      <th>order</th>\n",
       "      <th>family</th>\n",
       "      <th>genus</th>\n",
       "      <th>scientific_name</th>\n",
       "      <th>taxonkey</th>\n",
       "      <th>country_codes</th>\n",
       "      <th>species</th>\n",
       "    </tr>\n",
       "  </thead>\n",
       "  <tbody>\n",
       "    <tr>\n",
       "      <th>0</th>\n",
       "      <td>testudines</td>\n",
       "      <td>NaN</td>\n",
       "      <td>emydidae</td>\n",
       "      <td>trachemys</td>\n",
       "      <td>trachemys scripta</td>\n",
       "      <td>7062200</td>\n",
       "      <td>[pl,hu,ar,es,ch,do,cz,at,tw,ae,dk,bm,sk,hn,ro,...</td>\n",
       "      <td>scripta</td>\n",
       "    </tr>\n",
       "    <tr>\n",
       "      <th>1</th>\n",
       "      <td>aves</td>\n",
       "      <td>passeriformes</td>\n",
       "      <td>vireonidae</td>\n",
       "      <td>vireo</td>\n",
       "      <td>vireo gilvus</td>\n",
       "      <td>7191625</td>\n",
       "      <td>[ca,gt,us,sv,ni,mx,ec]</td>\n",
       "      <td>gilvus</td>\n",
       "    </tr>\n",
       "    <tr>\n",
       "      <th>2</th>\n",
       "      <td>aves</td>\n",
       "      <td>passeriformes</td>\n",
       "      <td>parulidae</td>\n",
       "      <td>protonotaria</td>\n",
       "      <td>protonotaria citrea</td>\n",
       "      <td>2489871</td>\n",
       "      <td>[bs,tc,ec,ni,gf,bl,na,ai,jm,bz,zz,cr,sv,kn,hn,...</td>\n",
       "      <td>citrea</td>\n",
       "    </tr>\n",
       "    <tr>\n",
       "      <th>3</th>\n",
       "      <td>aves</td>\n",
       "      <td>pelecaniformes</td>\n",
       "      <td>ardeidae</td>\n",
       "      <td>bubulcus</td>\n",
       "      <td>bubulcus ibis</td>\n",
       "      <td>4408439</td>\n",
       "      <td>[am,gy,bm,ma,aq,lr,hu,ky,au,ly,td,kn,uz,pa,sa,...</td>\n",
       "      <td>ibis</td>\n",
       "    </tr>\n",
       "    <tr>\n",
       "      <th>4</th>\n",
       "      <td>aves</td>\n",
       "      <td>strigiformes</td>\n",
       "      <td>strigidae</td>\n",
       "      <td>aegolius</td>\n",
       "      <td>aegolius funereus</td>\n",
       "      <td>5739298</td>\n",
       "      <td>[by,hr,im,ir,md,gg,cn,it,al,mn,cz,us,me,tj,no,...</td>\n",
       "      <td>funereus</td>\n",
       "    </tr>\n",
       "  </tbody>\n",
       "</table>\n",
       "</div>"
      ],
      "text/plain": [
       "        class           order      family         genus      scientific_name  \\\n",
       "0  testudines             NaN    emydidae     trachemys    trachemys scripta   \n",
       "1        aves   passeriformes  vireonidae         vireo         vireo gilvus   \n",
       "2        aves   passeriformes   parulidae  protonotaria  protonotaria citrea   \n",
       "3        aves  pelecaniformes    ardeidae      bubulcus        bubulcus ibis   \n",
       "4        aves    strigiformes   strigidae      aegolius    aegolius funereus   \n",
       "\n",
       "   taxonkey                                      country_codes   species  \n",
       "0   7062200  [pl,hu,ar,es,ch,do,cz,at,tw,ae,dk,bm,sk,hn,ro,...   scripta  \n",
       "1   7191625                             [ca,gt,us,sv,ni,mx,ec]    gilvus  \n",
       "2   2489871  [bs,tc,ec,ni,gf,bl,na,ai,jm,bz,zz,cr,sv,kn,hn,...    citrea  \n",
       "3   4408439  [am,gy,bm,ma,aq,lr,hu,ky,au,ly,td,kn,uz,pa,sa,...      ibis  \n",
       "4   5739298  [by,hr,im,ir,md,gg,cn,it,al,mn,cz,us,me,tj,no,...  funereus  "
      ]
     },
     "metadata": {},
     "output_type": "display_data"
    }
   ],
   "source": [
    "# Try the gbq download\n",
    "df = pd.read_csv(\"bq-withcountry.csv\")\n",
    "\n",
    "df_filtered = df.map(lambda x: x.lower() if isinstance(x, str) else x)\n",
    "\n",
    "# extract actual speciesname\n",
    "df_filtered.rename(columns={'species': 'scientific_name'}, inplace=True)\n",
    "\n",
    "# create an actual species column\n",
    "df_filtered['species'] = df_filtered['scientific_name'].str.split().str[-1]\n",
    "\n",
    "df_gbq = df_filtered.copy()\n",
    "\n",
    "display(df_filtered.head())"
   ]
  },
  {
   "cell_type": "markdown",
   "id": "3d7b2c41",
   "metadata": {},
   "source": [
    "Now we're going to join the GBQ data (df_gbq) and the SpeciesNet Taxonomy Hierarchy data (df_taxa) based on the family tree. This is the most accurate way of matching between dataset because there is variation in common names."
   ]
  },
  {
   "cell_type": "code",
   "execution_count": 5,
   "id": "57d74f04",
   "metadata": {},
   "outputs": [
    {
     "data": {
      "text/html": [
       "<div>\n",
       "<style scoped>\n",
       "    .dataframe tbody tr th:only-of-type {\n",
       "        vertical-align: middle;\n",
       "    }\n",
       "\n",
       "    .dataframe tbody tr th {\n",
       "        vertical-align: top;\n",
       "    }\n",
       "\n",
       "    .dataframe thead th {\n",
       "        text-align: right;\n",
       "    }\n",
       "</style>\n",
       "<table border=\"1\" class=\"dataframe\">\n",
       "  <thead>\n",
       "    <tr style=\"text-align: right;\">\n",
       "      <th></th>\n",
       "      <th>class</th>\n",
       "      <th>order</th>\n",
       "      <th>family</th>\n",
       "      <th>genus</th>\n",
       "      <th>scientific_name</th>\n",
       "      <th>taxonkey</th>\n",
       "      <th>country_codes</th>\n",
       "      <th>species</th>\n",
       "      <th>common_name</th>\n",
       "    </tr>\n",
       "  </thead>\n",
       "  <tbody>\n",
       "    <tr>\n",
       "      <th>920</th>\n",
       "      <td>aves</td>\n",
       "      <td>piciformes</td>\n",
       "      <td>picidae</td>\n",
       "      <td>colaptes</td>\n",
       "      <td>colaptes auratus</td>\n",
       "      <td>6177448</td>\n",
       "      <td>[zz,us,ca]</td>\n",
       "      <td>auratus</td>\n",
       "      <td>northern flicker</td>\n",
       "    </tr>\n",
       "    <tr>\n",
       "      <th>921</th>\n",
       "      <td>mammalia</td>\n",
       "      <td>rodentia</td>\n",
       "      <td>cricetidae</td>\n",
       "      <td>microtus</td>\n",
       "      <td>microtus pennsylvanicus</td>\n",
       "      <td>7194068</td>\n",
       "      <td>[us,ca]</td>\n",
       "      <td>pennsylvanicus</td>\n",
       "      <td>NaN</td>\n",
       "    </tr>\n",
       "    <tr>\n",
       "      <th>922</th>\n",
       "      <td>mammalia</td>\n",
       "      <td>lagomorpha</td>\n",
       "      <td>leporidae</td>\n",
       "      <td>sylvilagus</td>\n",
       "      <td>sylvilagus transitionalis</td>\n",
       "      <td>2436905</td>\n",
       "      <td>[us]</td>\n",
       "      <td>transitionalis</td>\n",
       "      <td>NaN</td>\n",
       "    </tr>\n",
       "    <tr>\n",
       "      <th>923</th>\n",
       "      <td>squamata</td>\n",
       "      <td>NaN</td>\n",
       "      <td>colubridae</td>\n",
       "      <td>regina</td>\n",
       "      <td>regina grahamii</td>\n",
       "      <td>5222697</td>\n",
       "      <td>[us]</td>\n",
       "      <td>grahamii</td>\n",
       "      <td>NaN</td>\n",
       "    </tr>\n",
       "    <tr>\n",
       "      <th>924</th>\n",
       "      <td>aves</td>\n",
       "      <td>passeriformes</td>\n",
       "      <td>passerellidae</td>\n",
       "      <td>passerella</td>\n",
       "      <td>passerella iliaca</td>\n",
       "      <td>5788850</td>\n",
       "      <td>[us,ca]</td>\n",
       "      <td>iliaca</td>\n",
       "      <td>red fox-sparrow</td>\n",
       "    </tr>\n",
       "  </tbody>\n",
       "</table>\n",
       "</div>"
      ],
      "text/plain": [
       "        class          order         family       genus  \\\n",
       "920      aves     piciformes        picidae    colaptes   \n",
       "921  mammalia       rodentia     cricetidae    microtus   \n",
       "922  mammalia     lagomorpha      leporidae  sylvilagus   \n",
       "923  squamata            NaN     colubridae      regina   \n",
       "924      aves  passeriformes  passerellidae  passerella   \n",
       "\n",
       "               scientific_name  taxonkey country_codes         species  \\\n",
       "920           colaptes auratus   6177448    [zz,us,ca]         auratus   \n",
       "921    microtus pennsylvanicus   7194068       [us,ca]  pennsylvanicus   \n",
       "922  sylvilagus transitionalis   2436905          [us]  transitionalis   \n",
       "923            regina grahamii   5222697          [us]        grahamii   \n",
       "924          passerella iliaca   5788850       [us,ca]          iliaca   \n",
       "\n",
       "          common_name  \n",
       "920  northern flicker  \n",
       "921               NaN  \n",
       "922               NaN  \n",
       "923               NaN  \n",
       "924   red fox-sparrow  "
      ]
     },
     "execution_count": 5,
     "metadata": {},
     "output_type": "execute_result"
    }
   ],
   "source": [
    "# Merge dataframes on taxa hierarchy\n",
    "merged_df = pd.merge(\n",
    "    df_gbq,\n",
    "    df_taxa[['class', 'order', 'family', 'genus', 'species', 'common_name']],\n",
    "    on=['class', 'order', 'family', 'genus', 'species'],\n",
    "    how='left'\n",
    ")\n",
    "merged_df.tail()"
   ]
  },
  {
   "cell_type": "markdown",
   "id": "a32c7c25",
   "metadata": {},
   "source": [
    "In this merged table, if there is no common_name it's because there isn't a classification in the speciesnet taxonomy for it.  \n",
    "Meaning that specific animal will not be classified by speciesnet.  \n",
    "\n",
    "Since the table was merged with a left join on the gbq query (valid species in chicago) we can use this NaN field to understand what fraction of the dataset is potentially classified in our results."
   ]
  },
  {
   "cell_type": "code",
   "execution_count": 6,
   "id": "485e2247",
   "metadata": {},
   "outputs": [
    {
     "name": "stdout",
     "output_type": "stream",
     "text": [
      "Rows with matching common names:\n"
     ]
    },
    {
     "data": {
      "text/html": [
       "<div>\n",
       "<style scoped>\n",
       "    .dataframe tbody tr th:only-of-type {\n",
       "        vertical-align: middle;\n",
       "    }\n",
       "\n",
       "    .dataframe tbody tr th {\n",
       "        vertical-align: top;\n",
       "    }\n",
       "\n",
       "    .dataframe thead th {\n",
       "        text-align: right;\n",
       "    }\n",
       "</style>\n",
       "<table border=\"1\" class=\"dataframe\">\n",
       "  <thead>\n",
       "    <tr style=\"text-align: right;\">\n",
       "      <th></th>\n",
       "      <th>class</th>\n",
       "      <th>order</th>\n",
       "      <th>family</th>\n",
       "      <th>genus</th>\n",
       "      <th>scientific_name</th>\n",
       "      <th>taxonkey</th>\n",
       "      <th>country_codes</th>\n",
       "      <th>species</th>\n",
       "      <th>common_name</th>\n",
       "    </tr>\n",
       "  </thead>\n",
       "  <tbody>\n",
       "    <tr>\n",
       "      <th>3</th>\n",
       "      <td>aves</td>\n",
       "      <td>pelecaniformes</td>\n",
       "      <td>ardeidae</td>\n",
       "      <td>bubulcus</td>\n",
       "      <td>bubulcus ibis</td>\n",
       "      <td>4408439</td>\n",
       "      <td>[am,gy,bm,ma,aq,lr,hu,ky,au,ly,td,kn,uz,pa,sa,...</td>\n",
       "      <td>ibis</td>\n",
       "      <td>cattle egret</td>\n",
       "    </tr>\n",
       "    <tr>\n",
       "      <th>5</th>\n",
       "      <td>aves</td>\n",
       "      <td>galliformes</td>\n",
       "      <td>phasianidae</td>\n",
       "      <td>rollulus</td>\n",
       "      <td>rollulus rouloul</td>\n",
       "      <td>2474113</td>\n",
       "      <td>[bn,zz,us,dk,de,br,th,ca,mm,la,my,id,in,ch,sg,...</td>\n",
       "      <td>rouloul</td>\n",
       "      <td>crested partridge</td>\n",
       "    </tr>\n",
       "    <tr>\n",
       "      <th>6</th>\n",
       "      <td>aves</td>\n",
       "      <td>podicipediformes</td>\n",
       "      <td>podicipedidae</td>\n",
       "      <td>podilymbus</td>\n",
       "      <td>podilymbus podiceps</td>\n",
       "      <td>7191591</td>\n",
       "      <td>[sr,zz,cu,gt,ni,mx,vi,hn,br,nl,ca,sv,bs,it,bo,...</td>\n",
       "      <td>podiceps</td>\n",
       "      <td>pied-billed grebe</td>\n",
       "    </tr>\n",
       "    <tr>\n",
       "      <th>8</th>\n",
       "      <td>aves</td>\n",
       "      <td>columbiformes</td>\n",
       "      <td>columbidae</td>\n",
       "      <td>columba</td>\n",
       "      <td>columba livia</td>\n",
       "      <td>7191490</td>\n",
       "      <td>[dk,gr,ma,jo,gb,es,mk,gt,jp,pt,zw,cl,eg,iq,bg,...</td>\n",
       "      <td>livia</td>\n",
       "      <td>rock dove</td>\n",
       "    </tr>\n",
       "    <tr>\n",
       "      <th>9</th>\n",
       "      <td>NaN</td>\n",
       "      <td>NaN</td>\n",
       "      <td>NaN</td>\n",
       "      <td>NaN</td>\n",
       "      <td>NaN</td>\n",
       "      <td>44</td>\n",
       "      <td>[nf,mu,pg,om,mv,ke,nl,sv,fi,gg,vn,je,tf,ie,mz,...</td>\n",
       "      <td>NaN</td>\n",
       "      <td>animal</td>\n",
       "    </tr>\n",
       "  </tbody>\n",
       "</table>\n",
       "</div>"
      ],
      "text/plain": [
       "  class             order         family       genus      scientific_name  \\\n",
       "3  aves    pelecaniformes       ardeidae    bubulcus        bubulcus ibis   \n",
       "5  aves       galliformes    phasianidae    rollulus     rollulus rouloul   \n",
       "6  aves  podicipediformes  podicipedidae  podilymbus  podilymbus podiceps   \n",
       "8  aves     columbiformes     columbidae     columba        columba livia   \n",
       "9   NaN               NaN            NaN         NaN                  NaN   \n",
       "\n",
       "   taxonkey                                      country_codes   species  \\\n",
       "3   4408439  [am,gy,bm,ma,aq,lr,hu,ky,au,ly,td,kn,uz,pa,sa,...      ibis   \n",
       "5   2474113  [bn,zz,us,dk,de,br,th,ca,mm,la,my,id,in,ch,sg,...   rouloul   \n",
       "6   7191591  [sr,zz,cu,gt,ni,mx,vi,hn,br,nl,ca,sv,bs,it,bo,...  podiceps   \n",
       "8   7191490  [dk,gr,ma,jo,gb,es,mk,gt,jp,pt,zw,cl,eg,iq,bg,...     livia   \n",
       "9        44  [nf,mu,pg,om,mv,ke,nl,sv,fi,gg,vn,je,tf,ie,mz,...       NaN   \n",
       "\n",
       "         common_name  \n",
       "3       cattle egret  \n",
       "5  crested partridge  \n",
       "6  pied-billed grebe  \n",
       "8          rock dove  \n",
       "9             animal  "
      ]
     },
     "metadata": {},
     "output_type": "display_data"
    },
    {
     "name": "stdout",
     "output_type": "stream",
     "text": [
      "\n",
      "Rows without matching common names:\n"
     ]
    },
    {
     "data": {
      "text/html": [
       "<div>\n",
       "<style scoped>\n",
       "    .dataframe tbody tr th:only-of-type {\n",
       "        vertical-align: middle;\n",
       "    }\n",
       "\n",
       "    .dataframe tbody tr th {\n",
       "        vertical-align: top;\n",
       "    }\n",
       "\n",
       "    .dataframe thead th {\n",
       "        text-align: right;\n",
       "    }\n",
       "</style>\n",
       "<table border=\"1\" class=\"dataframe\">\n",
       "  <thead>\n",
       "    <tr style=\"text-align: right;\">\n",
       "      <th></th>\n",
       "      <th>class</th>\n",
       "      <th>order</th>\n",
       "      <th>family</th>\n",
       "      <th>genus</th>\n",
       "      <th>scientific_name</th>\n",
       "      <th>taxonkey</th>\n",
       "      <th>country_codes</th>\n",
       "      <th>species</th>\n",
       "      <th>common_name</th>\n",
       "    </tr>\n",
       "  </thead>\n",
       "  <tbody>\n",
       "    <tr>\n",
       "      <th>0</th>\n",
       "      <td>testudines</td>\n",
       "      <td>NaN</td>\n",
       "      <td>emydidae</td>\n",
       "      <td>trachemys</td>\n",
       "      <td>trachemys scripta</td>\n",
       "      <td>7062200</td>\n",
       "      <td>[pl,hu,ar,es,ch,do,cz,at,tw,ae,dk,bm,sk,hn,ro,...</td>\n",
       "      <td>scripta</td>\n",
       "      <td>NaN</td>\n",
       "    </tr>\n",
       "    <tr>\n",
       "      <th>1</th>\n",
       "      <td>aves</td>\n",
       "      <td>passeriformes</td>\n",
       "      <td>vireonidae</td>\n",
       "      <td>vireo</td>\n",
       "      <td>vireo gilvus</td>\n",
       "      <td>7191625</td>\n",
       "      <td>[ca,gt,us,sv,ni,mx,ec]</td>\n",
       "      <td>gilvus</td>\n",
       "      <td>NaN</td>\n",
       "    </tr>\n",
       "    <tr>\n",
       "      <th>2</th>\n",
       "      <td>aves</td>\n",
       "      <td>passeriformes</td>\n",
       "      <td>parulidae</td>\n",
       "      <td>protonotaria</td>\n",
       "      <td>protonotaria citrea</td>\n",
       "      <td>2489871</td>\n",
       "      <td>[bs,tc,ec,ni,gf,bl,na,ai,jm,bz,zz,cr,sv,kn,hn,...</td>\n",
       "      <td>citrea</td>\n",
       "      <td>NaN</td>\n",
       "    </tr>\n",
       "    <tr>\n",
       "      <th>4</th>\n",
       "      <td>aves</td>\n",
       "      <td>strigiformes</td>\n",
       "      <td>strigidae</td>\n",
       "      <td>aegolius</td>\n",
       "      <td>aegolius funereus</td>\n",
       "      <td>5739298</td>\n",
       "      <td>[by,hr,im,ir,md,gg,cn,it,al,mn,cz,us,me,tj,no,...</td>\n",
       "      <td>funereus</td>\n",
       "      <td>NaN</td>\n",
       "    </tr>\n",
       "    <tr>\n",
       "      <th>7</th>\n",
       "      <td>aves</td>\n",
       "      <td>columbiformes</td>\n",
       "      <td>columbidae</td>\n",
       "      <td>streptopelia</td>\n",
       "      <td>streptopelia roseogrisea</td>\n",
       "      <td>2495688</td>\n",
       "      <td>[er,tc,gm,sa,nl,zz,qa,au,dz,hn,gd,et,sn,my,na,...</td>\n",
       "      <td>roseogrisea</td>\n",
       "      <td>NaN</td>\n",
       "    </tr>\n",
       "  </tbody>\n",
       "</table>\n",
       "</div>"
      ],
      "text/plain": [
       "        class          order      family         genus  \\\n",
       "0  testudines            NaN    emydidae     trachemys   \n",
       "1        aves  passeriformes  vireonidae         vireo   \n",
       "2        aves  passeriformes   parulidae  protonotaria   \n",
       "4        aves   strigiformes   strigidae      aegolius   \n",
       "7        aves  columbiformes  columbidae  streptopelia   \n",
       "\n",
       "            scientific_name  taxonkey  \\\n",
       "0         trachemys scripta   7062200   \n",
       "1              vireo gilvus   7191625   \n",
       "2       protonotaria citrea   2489871   \n",
       "4         aegolius funereus   5739298   \n",
       "7  streptopelia roseogrisea   2495688   \n",
       "\n",
       "                                       country_codes      species common_name  \n",
       "0  [pl,hu,ar,es,ch,do,cz,at,tw,ae,dk,bm,sk,hn,ro,...      scripta         NaN  \n",
       "1                             [ca,gt,us,sv,ni,mx,ec]       gilvus         NaN  \n",
       "2  [bs,tc,ec,ni,gf,bl,na,ai,jm,bz,zz,cr,sv,kn,hn,...       citrea         NaN  \n",
       "4  [by,hr,im,ir,md,gg,cn,it,al,mn,cz,us,me,tj,no,...     funereus         NaN  \n",
       "7  [er,tc,gm,sa,nl,zz,qa,au,dz,hn,gd,et,sn,my,na,...  roseogrisea         NaN  "
      ]
     },
     "metadata": {},
     "output_type": "display_data"
    },
    {
     "name": "stdout",
     "output_type": "stream",
     "text": [
      "\n",
      "Total matches found: 391\n",
      "Total rows without matches: 534\n"
     ]
    }
   ],
   "source": [
    "\n",
    "# Display matches and non-matches\n",
    "print(\"Rows with matching common names:\")\n",
    "display(merged_df[merged_df['common_name'].notna()].head())\n",
    "\n",
    "print(\"\\nRows without matching common names:\")\n",
    "display(merged_df[merged_df['common_name'].isna()].head())\n",
    "\n",
    "# Count matches\n",
    "total_matches = merged_df['common_name'].notna().sum()\n",
    "print(f\"\\nTotal matches found: {total_matches}\")\n",
    "print(f\"Total rows without matches: {len(merged_df) - total_matches}\")"
   ]
  },
  {
   "cell_type": "markdown",
   "id": "5d2e2347",
   "metadata": {},
   "source": [
    "The merged dataset here is the set between SpeciesNet's taxonomic release (all of the species speciesnet can classify) and the set of species that were found withing the gbq polygon.\n",
    "\n"
   ]
  },
  {
   "cell_type": "code",
   "execution_count": 7,
   "id": "cc890b2a",
   "metadata": {},
   "outputs": [
    {
     "name": "stdout",
     "output_type": "stream",
     "text": [
      "['cattle egret', 'crested partridge', 'pied-billed grebe', 'rock dove', 'animal', 'vehicle', 'blank', 'yellow-crowned night-heron', 'great blue heron', 'busard saint-martin', 'lesser black-backed gull', 'northern mockingbird', 'belted kingfisher', 'golden eagle', 'blue-winged teal', 'american wigeon', 'blue grosbeak', 'eastern cottontail', 'cinnamon teal', \"wilson's snipe\", 'green heron', 'great blue heron', 'peromyscus species', 'long-billed dowitcher', 'brown thrasher', 'myrtle warbler', 'blue jay', 'sharp-tailed grouse', 'marsh wren', 'double-crested cormorant', 'mexican flying squirrel', 'american robin', 'coyote', 'red-headed woodpecker', 'black-capped chickadee', 'brown-headed cowbird', 'hairy woodpecker', \"cassin's sparrow\", 'spotted sandpiper', 'héron à dos vert', 'empidonax species', 'common grackle', 'moorhen', 'belted kingfisher', 'hairy woodpecker', 'red-winged blackbird', 'hairy woodpecker', 'american badger', 'chukar', 'larus species', 'short-eared owl', 'héron à dos vert', 'domestic horse', 'zosterops species', 'faucon pèlerin', 'house mouse', 'mute swan', 'spotted towhee', 'american beaver', 'gadwall', 'chipping sparrow', 'eurasian collared-dove', 'common starling', 'russet-backed thrush', 'california gull', 'wren', 'ring-necked pheasant', 'superb starling', 'european rabbit', 'american black duck', 'common yellowthroat', 'north american river otter', 'vesper sparrow', 'house wren', 'antrostomus species', 'swamp sparrow', 'eastern screech-owl', 'western meadowlark', 'northern bobwhite', 'pine warbler', 'song sparrow', 'russet-backed thrush', 'american crow', 'horned lark', 'sphyrapicus species', 'blue jay', 'muscovy duck', 'botaurus species', 'virginia rail', 'domestic cat', 'sciurus species', 'solitary sandpiper', 'red fox-sparrow', 'ovenbird', 'house rat', 'canada goose', 'goosander', 'microtus species', 'moorhen', 'great crested flycatcher', 'double-crested cormorant', 'spotted sandpiper', 'accipitridae family', 'short-eared owl', 'american white pelican', 'veery', 'yellow-headed blackbird', 'marsh wren', 'common ground-dove', 'eastern kingbird', 'palm warbler', 'woodchuck', 'northern goshawk', 'red-shouldered hawk', 'double-crested cormorant', 'colaptes species', 'eastern chipmunk', 'barred owl', 'dark-eyed junco', 'great horned owl', 'gray-cheeked thrush', 'brown thrasher', 'long-eared owl', 'gray-cheeked thrush', 'house sparrow', 'house finch', 'greater white-fronted goose', 'northern bobwhite', 'grey catbird', 'barn swallow', 'house sparrow', 'mourning dove', 'golden eagle', 'ring-necked duck', 'common yellowthroat', 'mallard', 'faucon pèlerin', 'mourning dove', 'song sparrow', 'american avocet', 'hirundinidae family', 'gray-cheeked thrush', 'black-and-white warbler', 'western tanager', 'american coot', 'virginia opossum', 'great white egret', 'red-shouldered hawk', 'western grebe', 'song sparrow', 'blue jay', 'pine warbler', 'mallard', 'eastern screech-owl', 'barred owl', 'eastern bluebird', 'common nighthawk', 'eastern fox squirrel', \"steller's jay\", 'killdeer', 'rough-legged buzzard', 'little blue heron', 'anatidae family', 'white-winged dove', 'moorhen', 'american kestrel', 'weasel species', 'red-bellied woodpecker', 'green heron', 'chipping sparrow', 'western kingbird', 'greater yellowlegs', 'snowy egret', 'wood duck', 'canada goose', 'muskrat', 'downy woodpecker', 'palm warbler', \"wilson's warbler\", 'song sparrow', 'ovenbird', 'cedar waxwing', 'loggerhead shrike', 'swamp sparrow', 'north american deermouse', 'lark sparrow', 'grasshopper sparrow', \"swainson's hawk\", 'red-headed woodpecker', 'white-breasted nuthatch', \"cooper's hawk\", 'eastern phoebe', \"williamson's sapsucker\", 'lark bunting', 'eastern gray squirrel', 'brown rat', 'black-bellied whistling-duck', 'upland sandpiper', 'domestic turkey', 'russet-backed thrush', 'moorhen', 'common grackle', 'grey wolf', 'pine warbler', 'dark-eyed junco', 'belted kingfisher', 'northern raccoon', 'american redstart', 'busard saint-martin', 'american bittern', 'bald eagle', 'wood thrush', 'rusty blackbird', \"bewick's wren\", 'northern cardinal', \"wilson's warbler\", 'song sparrow', 'northern raccoon', 'bald eagle', 'clay-colored sparrow', \"brewer's blackbird\", 'house finch', 'long-tailed weasel', 'rusty blackbird', 'red-breasted nuthatch', 'palm warbler', 'moorhen', 'aythya species', 'least bittern', 'grey wolf', 'northern flicker', 'domestic guineafowl', 'common barn owl', 'mallard', 'horned lark', 'willet', 'american wigeon', 'northern pintail', 'goosander', 'goéland argenté', 'red-winged blackbird', 'american crow', 'common starling', 'rallidae family', 'broad-winged hawk', 'green-winged teal', 'dark-eyed junco', 'black-headed grosbeak', 'broad-winged hawk', 'house finch', 'red fox', 'long-eared owl', 'palm warbler', 'northern flicker', \"gambel's quail\", 'white-breasted nuthatch', 'palm warbler', 'eastern gray squirrel', 'buff-bellied pipit', 'hairy woodpecker', 'grasshopper sparrow', 'eastern wood-pewee', \"bewick's wren\", \"cassin's sparrow\", 'domestic turkey', 'northern raccoon', 'marsh wren', 'bat', 'blue grosbeak', 'mallard', 'least bittern', 'red fox', 'black-crowned night-heron', 'ring-necked pheasant', 'cattle egret', 'killdeer', 'red-tailed hawk', 'rock dove', 'sylvilagus species', 'black-crowned night-heron', 'virginia rail', 'california quail', 'blue-winged teal', 'white-throated sparrow', 'myrtle warbler', 'geothlypis species', 'golden-crowned kinglet', 'busard saint-martin', 'setophaga species', 'hooded merganser', 'downy woodpecker', 'canada goose', 'hermit thrush', 'pine warbler', 'veery', 'american robin', 'hermit thrush', 'great horned owl', 'red fox-sparrow', 'veery', 'varied thrush', 'northern goshawk', 'american herring gull', 'vesper sparrow', 'loggerhead shrike', 'lark sparrow', 'song sparrow', 'red-winged blackbird', 'marsh wren', 'striped skunk', 'black-billed magpie', 'white-crowned sparrow', \"townsend's solitaire\", 'budgerigar', 'rock dove', 'red junglefowl', 'red-tailed hawk', 'bird', 'rock dove', 'northern goshawk', 'rufous-sided towhee', 'black-capped chickadee', 'buff-bellied pipit', 'gadwall', 'buteo species', 'house mouse', 'dryobates species', 'great black-backed gull', 'bufflehead', 'junco species', 'striped skunk', 'ring-billed gull', 'house wren', 'green peafowl', 'brown-headed cowbird', 'american woodcock', 'white ibis', 'white-crowned sparrow', 'spotted towhee', 'ruby-crowned kinglet', 'ruby-crowned kinglet', 'red-winged blackbird', 'swamp sparrow', 'eastern fox squirrel', 'black-billed magpie', \"wilson's warbler\", 'house finch', 'eastern screech-owl', 'dark-eyed junco', 'eastern screech-owl', 'north american deermouse', 'ovenbird', 'american herring gull', 'rattus species', 'jabiru', 'common nighthawk', \"wilson's warbler\", 'barn swallow', 'american coot', 'belted kingfisher', 'great white egret', 'tufted titmouse', 'northern cardinal', 'black-crowned night-heron', 'marbled godwit', 'sora', 'goldfinch', 'solitary sandpiper', 'golden-crowned kinglet', 'passer species', 'ruby-crowned kinglet', 'myrtle warbler', 'greater white-fronted goose', 'myrtle warbler', 'pied-billed grebe', 'american kestrel', 'sage thrasher', 'virginia opossum', 'eastern bluebird', 'mallard', 'grey crowned-crane', 'coyote', \"wilson's snipe\", 'white-footed mouse', 'downy woodpecker', 'black-capped chickadee', 'rufous-sided towhee', 'ruffed grouse', 'ferruginous hawk', 'northern flicker', 'red fox-sparrow']\n"
     ]
    }
   ],
   "source": [
    "# Save the matching dataset\n",
    "df_matched = merged_df[merged_df['common_name'].notna()]\n",
    "\n",
    "df_matched.to_csv('gbq_to_taxa_common_matched.csv')\n",
    "\n",
    "# Store the matching common_names for comparison to the speciesnet output\n",
    "chicago_species = df_matched['common_name'].tolist()\n",
    "\n",
    "print(chicago_species)\n"
   ]
  },
  {
   "cell_type": "markdown",
   "id": "6c78d663",
   "metadata": {},
   "source": [
    "Now we can load the species data from our first runs using SpeciesNet."
   ]
  },
  {
   "cell_type": "code",
   "execution_count": 8,
   "id": "28339fc9",
   "metadata": {},
   "outputs": [
    {
     "data": {
      "text/html": [
       "<div>\n",
       "<style scoped>\n",
       "    .dataframe tbody tr th:only-of-type {\n",
       "        vertical-align: middle;\n",
       "    }\n",
       "\n",
       "    .dataframe tbody tr th {\n",
       "        vertical-align: top;\n",
       "    }\n",
       "\n",
       "    .dataframe thead th {\n",
       "        text-align: right;\n",
       "    }\n",
       "</style>\n",
       "<table border=\"1\" class=\"dataframe\">\n",
       "  <thead>\n",
       "    <tr style=\"text-align: right;\">\n",
       "      <th></th>\n",
       "      <th>Unnamed: 0</th>\n",
       "      <th>class</th>\n",
       "      <th>count</th>\n",
       "      <th>%</th>\n",
       "    </tr>\n",
       "  </thead>\n",
       "  <tbody>\n",
       "    <tr>\n",
       "      <th>0</th>\n",
       "      <td>1</td>\n",
       "      <td>blank</td>\n",
       "      <td>89424</td>\n",
       "      <td>84.70</td>\n",
       "    </tr>\n",
       "    <tr>\n",
       "      <th>1</th>\n",
       "      <td>2</td>\n",
       "      <td>bird</td>\n",
       "      <td>4948</td>\n",
       "      <td>4.70</td>\n",
       "    </tr>\n",
       "    <tr>\n",
       "      <th>2</th>\n",
       "      <td>3</td>\n",
       "      <td>human</td>\n",
       "      <td>4196</td>\n",
       "      <td>4.00</td>\n",
       "    </tr>\n",
       "    <tr>\n",
       "      <th>3</th>\n",
       "      <td>4</td>\n",
       "      <td>western pond turtle</td>\n",
       "      <td>1621</td>\n",
       "      <td>1.50</td>\n",
       "    </tr>\n",
       "    <tr>\n",
       "      <th>4</th>\n",
       "      <td>5</td>\n",
       "      <td>mallard</td>\n",
       "      <td>579</td>\n",
       "      <td>0.55</td>\n",
       "    </tr>\n",
       "  </tbody>\n",
       "</table>\n",
       "</div>"
      ],
      "text/plain": [
       "   Unnamed: 0                class  count      %\n",
       "0           1                blank  89424  84.70\n",
       "1           2                 bird   4948   4.70\n",
       "2           3                human   4196   4.00\n",
       "3           4  western pond turtle   1621   1.50\n",
       "4           5              mallard    579   0.55"
      ]
     },
     "execution_count": 8,
     "metadata": {},
     "output_type": "execute_result"
    }
   ],
   "source": [
    "# Load Species Data\n",
    "species_data = pd.read_csv('../runs/full-no-geo/simple_class_counts.csv')\n",
    "species_data.reset_index(drop=True, inplace=True)\n",
    "species_data.head()"
   ]
  },
  {
   "cell_type": "code",
   "execution_count": 9,
   "id": "774562a0",
   "metadata": {},
   "outputs": [
    {
     "name": "stdout",
     "output_type": "stream",
     "text": [
      "Total mismatched species: 38\n",
      "Total matched species: 25\n"
     ]
    }
   ],
   "source": [
    "# Compare Species Lists\n",
    "species_list = species_data['class'].tolist()\n",
    "mismatched_species = [species for species in species_list if species not in chicago_species]\n",
    "print(f\"Total mismatched species: {len(mismatched_species)}\")\n",
    "print(f\"Total matched species: {len(species_list)-len(mismatched_species)}\")"
   ]
  },
  {
   "cell_type": "markdown",
   "id": "cda49bcb",
   "metadata": {},
   "source": [
    "Matched Species = for species both in the speciesnet taxonomy release and in the geofenced chicago area - these were found in the speciesnet predictions\n",
    "\n",
    "Mismatched Species = for species in the speciesNet taxonomy release but not in the geofenced chicago area - these were found in the speciesNet predictions - they are false positives"
   ]
  },
  {
   "cell_type": "code",
   "execution_count": 10,
   "id": "795a2a88",
   "metadata": {},
   "outputs": [
    {
     "name": "stdout",
     "output_type": "stream",
     "text": [
      "Percentage of mismatched species: 60.32%\n",
      "Percentage of matched species: 39.68%\n"
     ]
    }
   ],
   "source": [
    "# Generate Statistics on Mismatched Species\n",
    "total_species = len(species_list)\n",
    "mismatched_percentage = (len(mismatched_species) / total_species) * 100\n",
    "matched_percentage = ( (total_species - len(mismatched_species) ) / total_species) * 100\n",
    "print(f\"Percentage of mismatched species: {mismatched_percentage:.2f}%\")\n",
    "print(f\"Percentage of matched species: {matched_percentage:.2f}%\")"
   ]
  },
  {
   "cell_type": "markdown",
   "id": "5aeed75c",
   "metadata": {},
   "source": [
    "This means that about 40% of the speciesnet classifications on our images are actual valid species and about 60% were classified by speciesnet but the class doesn't belong in chicago."
   ]
  },
  {
   "cell_type": "code",
   "execution_count": 11,
   "id": "5b2dc92c",
   "metadata": {},
   "outputs": [
    {
     "name": "stdout",
     "output_type": "stream",
     "text": [
      "Matching species (25): ['blank', 'bird', 'mallard', 'american coot', 'northern raccoon', 'great blue heron', 'vehicle', 'eastern cottontail', 'brown rat', 'domestic cat', 'muskrat', 'wood duck', 'coyote', 'canada goose', 'american beaver', 'eastern gray squirrel', 'domestic horse', 'american robin', 'white-crowned sparrow', 'sylvilagus species', 'song sparrow', 'snowy egret', 'california quail', 'north american river otter', 'eastern chipmunk']\n",
      "Mismatched species (38): ['human', 'western pond turtle', 'anseriformes order', 'domestic dog', 'reptile', 'domestic cattle', 'wild turkey', 'central american agouti', 'white-tailed deer', 'nutria', 'crocodile', 'wild boar', 'mammal', 'common tapeti', \"tome's spiny rat\", 'ocellated turkey', 'rodent', 'collared peccary', 'spotted paca', 'madagascar crested ibis', 'canis species', 'red squirrel', 'bushy-tailed woodrat', 'pronghorn', 'eastern red forest rat', 'domestic chicken', 'blood pheasant', 'white-lipped peccary', 'red acouchi', 'desert cottontail', 'plains zebra', 'rufescent tiger-heron', 'owl', 'common wombat', 'bearded pig', 'fossa', 'nine-banded armadillo', \"guenther's dik-dik\"]\n"
     ]
    }
   ],
   "source": [
    "# List the matching vs mismatching species\n",
    "matching_species = [species for species in species_list if species in chicago_species]\n",
    "mismatched_species = [species for species in species_list if species not in chicago_species]\n",
    "\n",
    "print(f\"Matching species ({len(matching_species)}): {matching_species}\")\n",
    "print(f\"Mismatched species ({len(mismatched_species)}): {mismatched_species}\")"
   ]
  },
  {
   "cell_type": "markdown",
   "id": "57908413",
   "metadata": {},
   "source": [
    "Some of the mismatched species make sense - the gbif dataset won't have a hierarchy for humans or domestic dogs - or vehicles and reptiles.  \n",
    "\n",
    "We built the join to get the simple class names based on the taxa hierarchy (genus/family/order etc) and there just wouldn't be one sometimes where the speciesnet team added it to allow for useful model predictions."
   ]
  },
  {
   "cell_type": "code",
   "execution_count": 12,
   "id": "5f74f99f",
   "metadata": {},
   "outputs": [
    {
     "name": "stdout",
     "output_type": "stream",
     "text": [
      "                      matching non_matching (speciesnet!gbif)\n",
      "0                        blank                          human\n",
      "1                         bird            western pond turtle\n",
      "2                      mallard             anseriformes order\n",
      "3                american coot                   domestic dog\n",
      "4             northern raccoon                        reptile\n",
      "5             great blue heron                domestic cattle\n",
      "6                      vehicle                    wild turkey\n",
      "7           eastern cottontail        central american agouti\n",
      "8                    brown rat              white-tailed deer\n",
      "9                 domestic cat                         nutria\n",
      "10                     muskrat                      crocodile\n",
      "11                   wood duck                      wild boar\n",
      "12                      coyote                         mammal\n",
      "13                canada goose                  common tapeti\n",
      "14             american beaver               tome's spiny rat\n",
      "15       eastern gray squirrel               ocellated turkey\n",
      "16              domestic horse                         rodent\n",
      "17              american robin               collared peccary\n",
      "18       white-crowned sparrow                   spotted paca\n",
      "19          sylvilagus species        madagascar crested ibis\n",
      "20                song sparrow                  canis species\n",
      "21                 snowy egret                   red squirrel\n",
      "22            california quail           bushy-tailed woodrat\n",
      "23  north american river otter                      pronghorn\n",
      "24            eastern chipmunk         eastern red forest rat\n",
      "25                        <NA>               domestic chicken\n",
      "26                        <NA>                 blood pheasant\n",
      "27                        <NA>           white-lipped peccary\n",
      "28                        <NA>                    red acouchi\n",
      "29                        <NA>              desert cottontail\n",
      "30                        <NA>                   plains zebra\n",
      "31                        <NA>          rufescent tiger-heron\n",
      "32                        <NA>                            owl\n",
      "33                        <NA>                  common wombat\n",
      "34                        <NA>                    bearded pig\n",
      "35                        <NA>                          fossa\n",
      "36                        <NA>          nine-banded armadillo\n",
      "37                        <NA>             guenther's dik-dik\n"
     ]
    }
   ],
   "source": [
    "from itertools import zip_longest\n",
    "\n",
    "review_df = pd.DataFrame(\n",
    "    list(zip_longest(matching_species, mismatched_species, fillvalue=pd.NA)),\n",
    "    columns=['matching', 'non_matching (speciesnet!gbif)']\n",
    ")\n",
    "\n",
    "print(review_df)\n"
   ]
  },
  {
   "cell_type": "code",
   "execution_count": 13,
   "id": "efc069e1",
   "metadata": {},
   "outputs": [
    {
     "name": "stdout",
     "output_type": "stream",
     "text": [
      "['western pond turtle', 'domestic cattle', 'wild turkey', 'central american agouti', 'white-tailed deer', 'nutria', 'crocodile', 'wild boar', 'common tapeti', \"tome's spiny rat\", 'ocellated turkey', 'collared peccary', 'spotted paca', 'madagascar crested ibis', 'red squirrel', 'bushy-tailed woodrat', 'pronghorn', 'eastern red forest rat', 'domestic chicken', 'blood pheasant', 'white-lipped peccary', 'red acouchi', 'desert cottontail', 'plains zebra', 'rufescent tiger-heron', 'owl', 'common wombat', 'bearded pig', 'fossa', 'nine-banded armadillo', \"guenther's dik-dik\"]\n"
     ]
    },
    {
     "data": {
      "text/html": [
       "<div>\n",
       "<style scoped>\n",
       "    .dataframe tbody tr th:only-of-type {\n",
       "        vertical-align: middle;\n",
       "    }\n",
       "\n",
       "    .dataframe tbody tr th {\n",
       "        vertical-align: top;\n",
       "    }\n",
       "\n",
       "    .dataframe thead th {\n",
       "        text-align: right;\n",
       "    }\n",
       "</style>\n",
       "<table border=\"1\" class=\"dataframe\">\n",
       "  <thead>\n",
       "    <tr style=\"text-align: right;\">\n",
       "      <th></th>\n",
       "      <th>class</th>\n",
       "      <th>count</th>\n",
       "      <th>%</th>\n",
       "    </tr>\n",
       "  </thead>\n",
       "  <tbody>\n",
       "    <tr>\n",
       "      <th>3</th>\n",
       "      <td>western pond turtle</td>\n",
       "      <td>1621</td>\n",
       "      <td>1.500</td>\n",
       "    </tr>\n",
       "    <tr>\n",
       "      <th>14</th>\n",
       "      <td>domestic cattle</td>\n",
       "      <td>41</td>\n",
       "      <td>0.039</td>\n",
       "    </tr>\n",
       "    <tr>\n",
       "      <th>15</th>\n",
       "      <td>wild turkey</td>\n",
       "      <td>41</td>\n",
       "      <td>0.039</td>\n",
       "    </tr>\n",
       "    <tr>\n",
       "      <th>16</th>\n",
       "      <td>central american agouti</td>\n",
       "      <td>29</td>\n",
       "      <td>0.027</td>\n",
       "    </tr>\n",
       "    <tr>\n",
       "      <th>20</th>\n",
       "      <td>white-tailed deer</td>\n",
       "      <td>20</td>\n",
       "      <td>0.019</td>\n",
       "    </tr>\n",
       "    <tr>\n",
       "      <th>22</th>\n",
       "      <td>nutria</td>\n",
       "      <td>17</td>\n",
       "      <td>0.016</td>\n",
       "    </tr>\n",
       "    <tr>\n",
       "      <th>23</th>\n",
       "      <td>crocodile</td>\n",
       "      <td>16</td>\n",
       "      <td>0.015</td>\n",
       "    </tr>\n",
       "    <tr>\n",
       "      <th>26</th>\n",
       "      <td>wild boar</td>\n",
       "      <td>11</td>\n",
       "      <td>0.010</td>\n",
       "    </tr>\n",
       "    <tr>\n",
       "      <th>28</th>\n",
       "      <td>common tapeti</td>\n",
       "      <td>7</td>\n",
       "      <td>0.007</td>\n",
       "    </tr>\n",
       "    <tr>\n",
       "      <th>30</th>\n",
       "      <td>tome's spiny rat</td>\n",
       "      <td>6</td>\n",
       "      <td>0.006</td>\n",
       "    </tr>\n",
       "    <tr>\n",
       "      <th>31</th>\n",
       "      <td>ocellated turkey</td>\n",
       "      <td>5</td>\n",
       "      <td>0.005</td>\n",
       "    </tr>\n",
       "    <tr>\n",
       "      <th>34</th>\n",
       "      <td>collared peccary</td>\n",
       "      <td>3</td>\n",
       "      <td>0.003</td>\n",
       "    </tr>\n",
       "    <tr>\n",
       "      <th>36</th>\n",
       "      <td>spotted paca</td>\n",
       "      <td>3</td>\n",
       "      <td>0.003</td>\n",
       "    </tr>\n",
       "    <tr>\n",
       "      <th>38</th>\n",
       "      <td>madagascar crested ibis</td>\n",
       "      <td>2</td>\n",
       "      <td>0.002</td>\n",
       "    </tr>\n",
       "    <tr>\n",
       "      <th>42</th>\n",
       "      <td>red squirrel</td>\n",
       "      <td>1</td>\n",
       "      <td>0.001</td>\n",
       "    </tr>\n",
       "    <tr>\n",
       "      <th>43</th>\n",
       "      <td>bushy-tailed woodrat</td>\n",
       "      <td>1</td>\n",
       "      <td>0.001</td>\n",
       "    </tr>\n",
       "    <tr>\n",
       "      <th>44</th>\n",
       "      <td>pronghorn</td>\n",
       "      <td>1</td>\n",
       "      <td>0.001</td>\n",
       "    </tr>\n",
       "    <tr>\n",
       "      <th>45</th>\n",
       "      <td>eastern red forest rat</td>\n",
       "      <td>1</td>\n",
       "      <td>0.001</td>\n",
       "    </tr>\n",
       "    <tr>\n",
       "      <th>47</th>\n",
       "      <td>domestic chicken</td>\n",
       "      <td>1</td>\n",
       "      <td>0.001</td>\n",
       "    </tr>\n",
       "    <tr>\n",
       "      <th>49</th>\n",
       "      <td>blood pheasant</td>\n",
       "      <td>1</td>\n",
       "      <td>0.001</td>\n",
       "    </tr>\n",
       "    <tr>\n",
       "      <th>50</th>\n",
       "      <td>white-lipped peccary</td>\n",
       "      <td>1</td>\n",
       "      <td>0.001</td>\n",
       "    </tr>\n",
       "    <tr>\n",
       "      <th>51</th>\n",
       "      <td>red acouchi</td>\n",
       "      <td>1</td>\n",
       "      <td>0.001</td>\n",
       "    </tr>\n",
       "    <tr>\n",
       "      <th>52</th>\n",
       "      <td>desert cottontail</td>\n",
       "      <td>1</td>\n",
       "      <td>0.001</td>\n",
       "    </tr>\n",
       "    <tr>\n",
       "      <th>53</th>\n",
       "      <td>plains zebra</td>\n",
       "      <td>1</td>\n",
       "      <td>0.001</td>\n",
       "    </tr>\n",
       "    <tr>\n",
       "      <th>54</th>\n",
       "      <td>rufescent tiger-heron</td>\n",
       "      <td>1</td>\n",
       "      <td>0.001</td>\n",
       "    </tr>\n",
       "    <tr>\n",
       "      <th>55</th>\n",
       "      <td>owl</td>\n",
       "      <td>1</td>\n",
       "      <td>0.001</td>\n",
       "    </tr>\n",
       "    <tr>\n",
       "      <th>56</th>\n",
       "      <td>common wombat</td>\n",
       "      <td>1</td>\n",
       "      <td>0.001</td>\n",
       "    </tr>\n",
       "    <tr>\n",
       "      <th>58</th>\n",
       "      <td>bearded pig</td>\n",
       "      <td>1</td>\n",
       "      <td>0.001</td>\n",
       "    </tr>\n",
       "    <tr>\n",
       "      <th>60</th>\n",
       "      <td>fossa</td>\n",
       "      <td>1</td>\n",
       "      <td>0.001</td>\n",
       "    </tr>\n",
       "    <tr>\n",
       "      <th>61</th>\n",
       "      <td>nine-banded armadillo</td>\n",
       "      <td>1</td>\n",
       "      <td>0.001</td>\n",
       "    </tr>\n",
       "    <tr>\n",
       "      <th>62</th>\n",
       "      <td>guenther's dik-dik</td>\n",
       "      <td>1</td>\n",
       "      <td>0.001</td>\n",
       "    </tr>\n",
       "  </tbody>\n",
       "</table>\n",
       "</div>"
      ],
      "text/plain": [
       "                      class  count      %\n",
       "3       western pond turtle   1621  1.500\n",
       "14          domestic cattle     41  0.039\n",
       "15              wild turkey     41  0.039\n",
       "16  central american agouti     29  0.027\n",
       "20        white-tailed deer     20  0.019\n",
       "22                   nutria     17  0.016\n",
       "23                crocodile     16  0.015\n",
       "26                wild boar     11  0.010\n",
       "28            common tapeti      7  0.007\n",
       "30         tome's spiny rat      6  0.006\n",
       "31         ocellated turkey      5  0.005\n",
       "34         collared peccary      3  0.003\n",
       "36             spotted paca      3  0.003\n",
       "38  madagascar crested ibis      2  0.002\n",
       "42             red squirrel      1  0.001\n",
       "43     bushy-tailed woodrat      1  0.001\n",
       "44                pronghorn      1  0.001\n",
       "45   eastern red forest rat      1  0.001\n",
       "47         domestic chicken      1  0.001\n",
       "49           blood pheasant      1  0.001\n",
       "50     white-lipped peccary      1  0.001\n",
       "51              red acouchi      1  0.001\n",
       "52        desert cottontail      1  0.001\n",
       "53             plains zebra      1  0.001\n",
       "54    rufescent tiger-heron      1  0.001\n",
       "55                      owl      1  0.001\n",
       "56            common wombat      1  0.001\n",
       "58              bearded pig      1  0.001\n",
       "60                    fossa      1  0.001\n",
       "61    nine-banded armadillo      1  0.001\n",
       "62       guenther's dik-dik      1  0.001"
      ]
     },
     "metadata": {},
     "output_type": "display_data"
    }
   ],
   "source": [
    "# Some of the mismatched are given and we need to remove them from being counted\n",
    "to_remove = ['human', 'domestic dog', 'mammal', 'rodent', 'reptile', 'anseriformes order', 'canis species']  # example items to remove, edit as needed\n",
    "mismatched_species = [s for s in mismatched_species if s not in to_remove]\n",
    "\n",
    "\n",
    "# Filter species_data for mismatched species\n",
    "mismatched_stats = species_data[species_data['class'].isin(mismatched_species)][['class', 'count', '%']]\n",
    "\n",
    "print(mismatched_stats['class'].to_list())\n",
    "display(mismatched_stats)"
   ]
  },
  {
   "cell_type": "code",
   "execution_count": 34,
   "id": "95b9b9ea",
   "metadata": {},
   "outputs": [
    {
     "name": "stdout",
     "output_type": "stream",
     "text": [
      "total missmatched and in taxa list: 30\n"
     ]
    },
    {
     "data": {
      "text/html": [
       "<div>\n",
       "<style scoped>\n",
       "    .dataframe tbody tr th:only-of-type {\n",
       "        vertical-align: middle;\n",
       "    }\n",
       "\n",
       "    .dataframe tbody tr th {\n",
       "        vertical-align: top;\n",
       "    }\n",
       "\n",
       "    .dataframe thead th {\n",
       "        text-align: right;\n",
       "    }\n",
       "</style>\n",
       "<table border=\"1\" class=\"dataframe\">\n",
       "  <thead>\n",
       "    <tr style=\"text-align: right;\">\n",
       "      <th></th>\n",
       "      <th>uuid</th>\n",
       "      <th>class</th>\n",
       "      <th>order</th>\n",
       "      <th>family</th>\n",
       "      <th>genus</th>\n",
       "      <th>species</th>\n",
       "      <th>common_name</th>\n",
       "      <th>scientific_name</th>\n",
       "    </tr>\n",
       "  </thead>\n",
       "  <tbody>\n",
       "    <tr>\n",
       "      <th>2806</th>\n",
       "      <td>cae9534f-f302-4229-9e11-b91138333d92</td>\n",
       "      <td>aves</td>\n",
       "      <td>galliformes</td>\n",
       "      <td>phasianidae</td>\n",
       "      <td>gallus</td>\n",
       "      <td>gallus domesticus</td>\n",
       "      <td>domestic chicken</td>\n",
       "      <td>gallus gallus domesticus</td>\n",
       "    </tr>\n",
       "    <tr>\n",
       "      <th>1574</th>\n",
       "      <td>710eb57f-77d9-44ca-a1e1-4077f868c0fa</td>\n",
       "      <td>aves</td>\n",
       "      <td>galliformes</td>\n",
       "      <td>phasianidae</td>\n",
       "      <td>ithaginis</td>\n",
       "      <td>cruentus</td>\n",
       "      <td>blood pheasant</td>\n",
       "      <td>ithaginis cruentus</td>\n",
       "    </tr>\n",
       "    <tr>\n",
       "      <th>992</th>\n",
       "      <td>466b25f0-a916-432c-823e-394a69391328</td>\n",
       "      <td>aves</td>\n",
       "      <td>galliformes</td>\n",
       "      <td>phasianidae</td>\n",
       "      <td>meleagris</td>\n",
       "      <td>ocellata</td>\n",
       "      <td>ocellated turkey</td>\n",
       "      <td>meleagris ocellata</td>\n",
       "    </tr>\n",
       "    <tr>\n",
       "      <th>250</th>\n",
       "      <td>1110460b-7f99-405b-a9b0-65a09ecccca1</td>\n",
       "      <td>aves</td>\n",
       "      <td>pelecaniformes</td>\n",
       "      <td>ardeidae</td>\n",
       "      <td>tigrisoma</td>\n",
       "      <td>lineatum</td>\n",
       "      <td>rufescent tiger-heron</td>\n",
       "      <td>tigrisoma lineatum</td>\n",
       "    </tr>\n",
       "    <tr>\n",
       "      <th>2544</th>\n",
       "      <td>b84b365a-b420-4164-85a1-124afc96f1d7</td>\n",
       "      <td>aves</td>\n",
       "      <td>pelecaniformes</td>\n",
       "      <td>threskiornithidae</td>\n",
       "      <td>lophotibis</td>\n",
       "      <td>cristata</td>\n",
       "      <td>madagascar crested ibis</td>\n",
       "      <td>lophotibis cristata</td>\n",
       "    </tr>\n",
       "  </tbody>\n",
       "</table>\n",
       "</div>"
      ],
      "text/plain": [
       "                                      uuid class           order  \\\n",
       "2806  cae9534f-f302-4229-9e11-b91138333d92  aves     galliformes   \n",
       "1574  710eb57f-77d9-44ca-a1e1-4077f868c0fa  aves     galliformes   \n",
       "992   466b25f0-a916-432c-823e-394a69391328  aves     galliformes   \n",
       "250   1110460b-7f99-405b-a9b0-65a09ecccca1  aves  pelecaniformes   \n",
       "2544  b84b365a-b420-4164-85a1-124afc96f1d7  aves  pelecaniformes   \n",
       "\n",
       "                 family       genus            species  \\\n",
       "2806        phasianidae      gallus  gallus domesticus   \n",
       "1574        phasianidae   ithaginis           cruentus   \n",
       "992         phasianidae   meleagris           ocellata   \n",
       "250            ardeidae   tigrisoma           lineatum   \n",
       "2544  threskiornithidae  lophotibis           cristata   \n",
       "\n",
       "                  common_name           scientific_name  \n",
       "2806         domestic chicken  gallus gallus domesticus  \n",
       "1574           blood pheasant        ithaginis cruentus  \n",
       "992          ocellated turkey        meleagris ocellata  \n",
       "250     rufescent tiger-heron        tigrisoma lineatum  \n",
       "2544  madagascar crested ibis       lophotibis cristata  "
      ]
     },
     "metadata": {},
     "output_type": "display_data"
    }
   ],
   "source": [
    "# for each species on this list that shouldn't have been found in chicago, determine the list of 2 letter countries it belongs to.\n",
    "\n",
    "df_missmatched = df_taxa[df_taxa['common_name'].isin(mismatched_species)].sort_values(by=['class', 'order', 'family', 'genus', 'species'])\n",
    "\n",
    "df_missmatched[\"scientific_name\"] = df_missmatched['genus'] + \" \" + df_missmatched['species']\n",
    "\n",
    "print(f'total missmatched and in taxa list: {len(df_missmatched)}')\n",
    "display(df_missmatched.head())"
   ]
  },
  {
   "cell_type": "code",
   "execution_count": 35,
   "id": "8ce08c65",
   "metadata": {},
   "outputs": [],
   "source": [
    "from pygbif import species as species_gbif\n",
    "\n",
    "\n",
    "def get_gbif_key(name):\n",
    "    \"\"\"Get GBIF usageKey (taxonKey) for a single scientific name.\"\"\"\n",
    "    if not isinstance(name, str) or not name.strip():\n",
    "        return None\n",
    "    try:\n",
    "        result = species_gbif.name_backbone(name=name)\n",
    "        return int(result.get(\"usageKey\"))  # safely get key or None\n",
    "    except Exception as e:\n",
    "        print(f\"Error with name '{name}': {e}\")\n",
    "        return None\n",
    "    \n",
    "# Apply function\n",
    "df_missmatched[\"taxanomic\"] = df_missmatched.apply(lambda row: get_gbif_key(row[\"scientific_name\"]), axis=1)\n",
    "\n"
   ]
  },
  {
   "cell_type": "code",
   "execution_count": 36,
   "id": "954bc16f",
   "metadata": {},
   "outputs": [
    {
     "data": {
      "text/html": [
       "<div>\n",
       "<style scoped>\n",
       "    .dataframe tbody tr th:only-of-type {\n",
       "        vertical-align: middle;\n",
       "    }\n",
       "\n",
       "    .dataframe tbody tr th {\n",
       "        vertical-align: top;\n",
       "    }\n",
       "\n",
       "    .dataframe thead th {\n",
       "        text-align: right;\n",
       "    }\n",
       "</style>\n",
       "<table border=\"1\" class=\"dataframe\">\n",
       "  <thead>\n",
       "    <tr style=\"text-align: right;\">\n",
       "      <th></th>\n",
       "      <th>uuid</th>\n",
       "      <th>class</th>\n",
       "      <th>order</th>\n",
       "      <th>family</th>\n",
       "      <th>genus</th>\n",
       "      <th>species</th>\n",
       "      <th>common_name</th>\n",
       "      <th>scientific_name</th>\n",
       "      <th>taxanomic</th>\n",
       "    </tr>\n",
       "  </thead>\n",
       "  <tbody>\n",
       "    <tr>\n",
       "      <th>2806</th>\n",
       "      <td>cae9534f-f302-4229-9e11-b91138333d92</td>\n",
       "      <td>aves</td>\n",
       "      <td>galliformes</td>\n",
       "      <td>phasianidae</td>\n",
       "      <td>gallus</td>\n",
       "      <td>gallus domesticus</td>\n",
       "      <td>domestic chicken</td>\n",
       "      <td>gallus gallus domesticus</td>\n",
       "      <td>9457155</td>\n",
       "    </tr>\n",
       "    <tr>\n",
       "      <th>1574</th>\n",
       "      <td>710eb57f-77d9-44ca-a1e1-4077f868c0fa</td>\n",
       "      <td>aves</td>\n",
       "      <td>galliformes</td>\n",
       "      <td>phasianidae</td>\n",
       "      <td>ithaginis</td>\n",
       "      <td>cruentus</td>\n",
       "      <td>blood pheasant</td>\n",
       "      <td>ithaginis cruentus</td>\n",
       "      <td>2474060</td>\n",
       "    </tr>\n",
       "    <tr>\n",
       "      <th>992</th>\n",
       "      <td>466b25f0-a916-432c-823e-394a69391328</td>\n",
       "      <td>aves</td>\n",
       "      <td>galliformes</td>\n",
       "      <td>phasianidae</td>\n",
       "      <td>meleagris</td>\n",
       "      <td>ocellata</td>\n",
       "      <td>ocellated turkey</td>\n",
       "      <td>meleagris ocellata</td>\n",
       "      <td>5227755</td>\n",
       "    </tr>\n",
       "    <tr>\n",
       "      <th>250</th>\n",
       "      <td>1110460b-7f99-405b-a9b0-65a09ecccca1</td>\n",
       "      <td>aves</td>\n",
       "      <td>pelecaniformes</td>\n",
       "      <td>ardeidae</td>\n",
       "      <td>tigrisoma</td>\n",
       "      <td>lineatum</td>\n",
       "      <td>rufescent tiger-heron</td>\n",
       "      <td>tigrisoma lineatum</td>\n",
       "      <td>2480869</td>\n",
       "    </tr>\n",
       "    <tr>\n",
       "      <th>2544</th>\n",
       "      <td>b84b365a-b420-4164-85a1-124afc96f1d7</td>\n",
       "      <td>aves</td>\n",
       "      <td>pelecaniformes</td>\n",
       "      <td>threskiornithidae</td>\n",
       "      <td>lophotibis</td>\n",
       "      <td>cristata</td>\n",
       "      <td>madagascar crested ibis</td>\n",
       "      <td>lophotibis cristata</td>\n",
       "      <td>2480814</td>\n",
       "    </tr>\n",
       "  </tbody>\n",
       "</table>\n",
       "</div>"
      ],
      "text/plain": [
       "                                      uuid class           order  \\\n",
       "2806  cae9534f-f302-4229-9e11-b91138333d92  aves     galliformes   \n",
       "1574  710eb57f-77d9-44ca-a1e1-4077f868c0fa  aves     galliformes   \n",
       "992   466b25f0-a916-432c-823e-394a69391328  aves     galliformes   \n",
       "250   1110460b-7f99-405b-a9b0-65a09ecccca1  aves  pelecaniformes   \n",
       "2544  b84b365a-b420-4164-85a1-124afc96f1d7  aves  pelecaniformes   \n",
       "\n",
       "                 family       genus            species  \\\n",
       "2806        phasianidae      gallus  gallus domesticus   \n",
       "1574        phasianidae   ithaginis           cruentus   \n",
       "992         phasianidae   meleagris           ocellata   \n",
       "250            ardeidae   tigrisoma           lineatum   \n",
       "2544  threskiornithidae  lophotibis           cristata   \n",
       "\n",
       "                  common_name           scientific_name  taxanomic  \n",
       "2806         domestic chicken  gallus gallus domesticus    9457155  \n",
       "1574           blood pheasant        ithaginis cruentus    2474060  \n",
       "992          ocellated turkey        meleagris ocellata    5227755  \n",
       "250     rufescent tiger-heron        tigrisoma lineatum    2480869  \n",
       "2544  madagascar crested ibis       lophotibis cristata    2480814  "
      ]
     },
     "metadata": {},
     "output_type": "display_data"
    }
   ],
   "source": [
    "# Display the result\n",
    "df_missmatched[\"taxanomic\"] = pd.to_numeric(df_missmatched[\"taxanomic\"], errors='coerce').astype('Int64')\n",
    "\n",
    "\n",
    "display(df_missmatched.head())"
   ]
  },
  {
   "cell_type": "code",
   "execution_count": 38,
   "id": "4eb1c8ed",
   "metadata": {},
   "outputs": [
    {
     "name": "stdout",
     "output_type": "stream",
     "text": [
      "Error with id 'nan': cannot convert float NaN to integer\n"
     ]
    }
   ],
   "source": [
    "# get country codes\n",
    "from pygbif import occurrences as occ\n",
    "\n",
    "def get_countries_and_us_states(taxa_key):\n",
    "    countries = []\n",
    "    us_states = []\n",
    "    try:\n",
    "        # convert to int if possible, else raise error or skip\n",
    "        taxa_key_int = int(taxa_key)\n",
    "        cc = occ.search(taxonKey=taxa_key_int, facet='country', facetLimit=200)\n",
    "        countries = [item['name'] for item in cc.get('facets', [])[0].get('counts', [])]\n",
    "\n",
    "        if 'US' in countries:\n",
    "            sc = occ.search(taxonKey=taxa_key_int, country='US', facet='stateProvince', facetLimit=200)\n",
    "            us_states = [item['name'] for item in sc.get('facets', [])[0].get('counts', [])]\n",
    "\n",
    "    except Exception as e:\n",
    "        print(f\"Error with id '{taxa_key}': {e}\")\n",
    "    return {\"countries\": countries, \"us_states\": us_states}\n",
    "\n",
    "# Apply function\n",
    "df_missmatched[['countries', 'us_states']] = df_missmatched['taxanomic'].apply(get_countries_and_us_states).apply(pd.Series)\n"
   ]
  },
  {
   "cell_type": "code",
   "execution_count": 55,
   "id": "06cf6518",
   "metadata": {},
   "outputs": [
    {
     "data": {
      "text/html": [
       "<div>\n",
       "<style scoped>\n",
       "    .dataframe tbody tr th:only-of-type {\n",
       "        vertical-align: middle;\n",
       "    }\n",
       "\n",
       "    .dataframe tbody tr th {\n",
       "        vertical-align: top;\n",
       "    }\n",
       "\n",
       "    .dataframe thead th {\n",
       "        text-align: right;\n",
       "    }\n",
       "</style>\n",
       "<table border=\"1\" class=\"dataframe\">\n",
       "  <thead>\n",
       "    <tr style=\"text-align: right;\">\n",
       "      <th></th>\n",
       "      <th>uuid</th>\n",
       "      <th>class</th>\n",
       "      <th>order</th>\n",
       "      <th>family</th>\n",
       "      <th>genus</th>\n",
       "      <th>species</th>\n",
       "      <th>common_name</th>\n",
       "      <th>scientific_name</th>\n",
       "      <th>taxanomic</th>\n",
       "      <th>countries</th>\n",
       "      <th>us_states</th>\n",
       "    </tr>\n",
       "  </thead>\n",
       "  <tbody>\n",
       "    <tr>\n",
       "      <th>2806</th>\n",
       "      <td>cae9534f-f302-4229-9e11-b91138333d92</td>\n",
       "      <td>aves</td>\n",
       "      <td>galliformes</td>\n",
       "      <td>phasianidae</td>\n",
       "      <td>gallus</td>\n",
       "      <td>gallus domesticus</td>\n",
       "      <td>domestic chicken</td>\n",
       "      <td>gallus gallus domesticus</td>\n",
       "      <td>9457155</td>\n",
       "      <td>[CO, US, NL, BE, SG, PR, NZ, FR, TH, AU, DE, K...</td>\n",
       "      <td>[hawaii, florida, california, texas, north car...</td>\n",
       "    </tr>\n",
       "    <tr>\n",
       "      <th>1574</th>\n",
       "      <td>710eb57f-77d9-44ca-a1e1-4077f868c0fa</td>\n",
       "      <td>aves</td>\n",
       "      <td>galliformes</td>\n",
       "      <td>phasianidae</td>\n",
       "      <td>ithaginis</td>\n",
       "      <td>cruentus</td>\n",
       "      <td>blood pheasant</td>\n",
       "      <td>ithaginis cruentus</td>\n",
       "      <td>2474060</td>\n",
       "      <td>[CN, BT, IN, NP, MM, ZZ, DE, AT, TH, US]</td>\n",
       "      <td>[]</td>\n",
       "    </tr>\n",
       "    <tr>\n",
       "      <th>992</th>\n",
       "      <td>466b25f0-a916-432c-823e-394a69391328</td>\n",
       "      <td>aves</td>\n",
       "      <td>galliformes</td>\n",
       "      <td>phasianidae</td>\n",
       "      <td>meleagris</td>\n",
       "      <td>ocellata</td>\n",
       "      <td>ocellated turkey</td>\n",
       "      <td>meleagris ocellata</td>\n",
       "      <td>5227755</td>\n",
       "      <td>[BZ, GT, MX, US, ZZ, DE, HN, CH, CO, DK, NL]</td>\n",
       "      <td>[california, florida, hawaii, oklahoma]</td>\n",
       "    </tr>\n",
       "    <tr>\n",
       "      <th>250</th>\n",
       "      <td>1110460b-7f99-405b-a9b0-65a09ecccca1</td>\n",
       "      <td>aves</td>\n",
       "      <td>pelecaniformes</td>\n",
       "      <td>ardeidae</td>\n",
       "      <td>tigrisoma</td>\n",
       "      <td>lineatum</td>\n",
       "      <td>rufescent tiger-heron</td>\n",
       "      <td>tigrisoma lineatum</td>\n",
       "      <td>2480869</td>\n",
       "      <td>[BR, AR, CO, PA, EC, PE, VE, BO, PY, UY, CR, G...</td>\n",
       "      <td>[hawaii]</td>\n",
       "    </tr>\n",
       "    <tr>\n",
       "      <th>2544</th>\n",
       "      <td>b84b365a-b420-4164-85a1-124afc96f1d7</td>\n",
       "      <td>aves</td>\n",
       "      <td>pelecaniformes</td>\n",
       "      <td>threskiornithidae</td>\n",
       "      <td>lophotibis</td>\n",
       "      <td>cristata</td>\n",
       "      <td>madagascar crested ibis</td>\n",
       "      <td>lophotibis cristata</td>\n",
       "      <td>2480814</td>\n",
       "      <td>[MG, BE, CH, DE, NG, ZZ]</td>\n",
       "      <td>[]</td>\n",
       "    </tr>\n",
       "  </tbody>\n",
       "</table>\n",
       "</div>"
      ],
      "text/plain": [
       "                                      uuid class           order  \\\n",
       "2806  cae9534f-f302-4229-9e11-b91138333d92  aves     galliformes   \n",
       "1574  710eb57f-77d9-44ca-a1e1-4077f868c0fa  aves     galliformes   \n",
       "992   466b25f0-a916-432c-823e-394a69391328  aves     galliformes   \n",
       "250   1110460b-7f99-405b-a9b0-65a09ecccca1  aves  pelecaniformes   \n",
       "2544  b84b365a-b420-4164-85a1-124afc96f1d7  aves  pelecaniformes   \n",
       "\n",
       "                 family       genus            species  \\\n",
       "2806        phasianidae      gallus  gallus domesticus   \n",
       "1574        phasianidae   ithaginis           cruentus   \n",
       "992         phasianidae   meleagris           ocellata   \n",
       "250            ardeidae   tigrisoma           lineatum   \n",
       "2544  threskiornithidae  lophotibis           cristata   \n",
       "\n",
       "                  common_name           scientific_name  taxanomic  \\\n",
       "2806         domestic chicken  gallus gallus domesticus    9457155   \n",
       "1574           blood pheasant        ithaginis cruentus    2474060   \n",
       "992          ocellated turkey        meleagris ocellata    5227755   \n",
       "250     rufescent tiger-heron        tigrisoma lineatum    2480869   \n",
       "2544  madagascar crested ibis       lophotibis cristata    2480814   \n",
       "\n",
       "                                              countries  \\\n",
       "2806  [CO, US, NL, BE, SG, PR, NZ, FR, TH, AU, DE, K...   \n",
       "1574           [CN, BT, IN, NP, MM, ZZ, DE, AT, TH, US]   \n",
       "992        [BZ, GT, MX, US, ZZ, DE, HN, CH, CO, DK, NL]   \n",
       "250   [BR, AR, CO, PA, EC, PE, VE, BO, PY, UY, CR, G...   \n",
       "2544                           [MG, BE, CH, DE, NG, ZZ]   \n",
       "\n",
       "                                              us_states  \n",
       "2806  [hawaii, florida, california, texas, north car...  \n",
       "1574                                                 []  \n",
       "992             [california, florida, hawaii, oklahoma]  \n",
       "250                                            [hawaii]  \n",
       "2544                                                 []  "
      ]
     },
     "metadata": {},
     "output_type": "display_data"
    }
   ],
   "source": [
    "# Finally see the completed df\n",
    "display(df_missmatched.head())\n",
    "\n",
    "df_missmatched.to_csv('missmatched_with_locations.csv')"
   ]
  },
  {
   "cell_type": "code",
   "execution_count": 47,
   "id": "68fd6f6c",
   "metadata": {},
   "outputs": [
    {
     "data": {
      "text/html": [
       "<div>\n",
       "<style scoped>\n",
       "    .dataframe tbody tr th:only-of-type {\n",
       "        vertical-align: middle;\n",
       "    }\n",
       "\n",
       "    .dataframe tbody tr th {\n",
       "        vertical-align: top;\n",
       "    }\n",
       "\n",
       "    .dataframe thead th {\n",
       "        text-align: right;\n",
       "    }\n",
       "</style>\n",
       "<table border=\"1\" class=\"dataframe\">\n",
       "  <thead>\n",
       "    <tr style=\"text-align: right;\">\n",
       "      <th></th>\n",
       "      <th>country_code</th>\n",
       "      <th>common_name</th>\n",
       "      <th>presence</th>\n",
       "    </tr>\n",
       "  </thead>\n",
       "  <tbody>\n",
       "    <tr>\n",
       "      <th>0</th>\n",
       "      <td>AD</td>\n",
       "      <td>domestic cattle&lt;br&gt;wild boar</td>\n",
       "      <td>1</td>\n",
       "    </tr>\n",
       "    <tr>\n",
       "      <th>1</th>\n",
       "      <td>AE</td>\n",
       "      <td>domestic chicken&lt;br&gt;domestic cattle</td>\n",
       "      <td>1</td>\n",
       "    </tr>\n",
       "    <tr>\n",
       "      <th>2</th>\n",
       "      <td>AF</td>\n",
       "      <td>domestic cattle&lt;br&gt;wild boar</td>\n",
       "      <td>1</td>\n",
       "    </tr>\n",
       "    <tr>\n",
       "      <th>3</th>\n",
       "      <td>AG</td>\n",
       "      <td>domestic chicken</td>\n",
       "      <td>1</td>\n",
       "    </tr>\n",
       "    <tr>\n",
       "      <th>4</th>\n",
       "      <td>AI</td>\n",
       "      <td>domestic chicken</td>\n",
       "      <td>1</td>\n",
       "    </tr>\n",
       "  </tbody>\n",
       "</table>\n",
       "</div>"
      ],
      "text/plain": [
       "  country_code                          common_name  presence\n",
       "0           AD         domestic cattle<br>wild boar         1\n",
       "1           AE  domestic chicken<br>domestic cattle         1\n",
       "2           AF         domestic cattle<br>wild boar         1\n",
       "3           AG                     domestic chicken         1\n",
       "4           AI                     domestic chicken         1"
      ]
     },
     "metadata": {},
     "output_type": "display_data"
    }
   ],
   "source": [
    "import plotly.express as px\n",
    "\n",
    "df_exploded = df_missmatched.explode('countries').rename(columns={'countries': 'country_code'})\n",
    "\n",
    "df_grouped = df_exploded.groupby('country_code')['common_name'].apply(lambda x: '<br>'.join(x.unique())).reset_index()\n",
    "# Add a presence column for coloring (all 1s)\n",
    "df_grouped['presence'] = 1\n",
    "\n",
    "display(df_grouped.head())\n"
   ]
  },
  {
   "cell_type": "code",
   "execution_count": 52,
   "id": "ab0b215d",
   "metadata": {},
   "outputs": [
    {
     "data": {
      "text/html": [
       "<div>\n",
       "<style scoped>\n",
       "    .dataframe tbody tr th:only-of-type {\n",
       "        vertical-align: middle;\n",
       "    }\n",
       "\n",
       "    .dataframe tbody tr th {\n",
       "        vertical-align: top;\n",
       "    }\n",
       "\n",
       "    .dataframe thead th {\n",
       "        text-align: right;\n",
       "    }\n",
       "</style>\n",
       "<table border=\"1\" class=\"dataframe\">\n",
       "  <thead>\n",
       "    <tr style=\"text-align: right;\">\n",
       "      <th></th>\n",
       "      <th>country_code</th>\n",
       "      <th>common_name</th>\n",
       "      <th>presence</th>\n",
       "      <th>country_code_3</th>\n",
       "    </tr>\n",
       "  </thead>\n",
       "  <tbody>\n",
       "    <tr>\n",
       "      <th>0</th>\n",
       "      <td>AD</td>\n",
       "      <td>domestic cattle&lt;br&gt;wild boar</td>\n",
       "      <td>1</td>\n",
       "      <td>AND</td>\n",
       "    </tr>\n",
       "    <tr>\n",
       "      <th>1</th>\n",
       "      <td>AE</td>\n",
       "      <td>domestic chicken&lt;br&gt;domestic cattle</td>\n",
       "      <td>1</td>\n",
       "      <td>ARE</td>\n",
       "    </tr>\n",
       "    <tr>\n",
       "      <th>2</th>\n",
       "      <td>AF</td>\n",
       "      <td>domestic cattle&lt;br&gt;wild boar</td>\n",
       "      <td>1</td>\n",
       "      <td>AFG</td>\n",
       "    </tr>\n",
       "    <tr>\n",
       "      <th>3</th>\n",
       "      <td>AG</td>\n",
       "      <td>domestic chicken</td>\n",
       "      <td>1</td>\n",
       "      <td>ATG</td>\n",
       "    </tr>\n",
       "    <tr>\n",
       "      <th>4</th>\n",
       "      <td>AI</td>\n",
       "      <td>domestic chicken</td>\n",
       "      <td>1</td>\n",
       "      <td>AIA</td>\n",
       "    </tr>\n",
       "  </tbody>\n",
       "</table>\n",
       "</div>"
      ],
      "text/plain": [
       "  country_code                          common_name  presence country_code_3\n",
       "0           AD         domestic cattle<br>wild boar         1            AND\n",
       "1           AE  domestic chicken<br>domestic cattle         1            ARE\n",
       "2           AF         domestic cattle<br>wild boar         1            AFG\n",
       "3           AG                     domestic chicken         1            ATG\n",
       "4           AI                     domestic chicken         1            AIA"
      ]
     },
     "metadata": {},
     "output_type": "display_data"
    },
    {
     "data": {
      "application/vnd.plotly.v1+json": {
       "config": {
        "plotlyServerURL": "https://plot.ly"
       },
       "data": [
        {
         "coloraxis": "coloraxis",
         "customdata": [
          [
           "domestic cattle<br>wild boar",
           1
          ],
          [
           "domestic chicken<br>domestic cattle",
           1
          ],
          [
           "domestic cattle<br>wild boar",
           1
          ],
          [
           "domestic chicken",
           1
          ],
          [
           "domestic chicken",
           1
          ],
          [
           "domestic chicken<br>domestic cattle<br>wild boar",
           1
          ],
          [
           "domestic chicken<br>domestic cattle<br>wild boar",
           1
          ],
          [
           "domestic chicken<br>wild boar<br>plains zebra<br>crocodile",
           1
          ],
          [
           "domestic chicken<br>rufescent tiger-heron<br>domestic cattle<br>white-tailed deer<br>wild boar<br>collared peccary<br>white-lipped peccary<br>nine-banded armadillo<br>common tapeti<br>plains zebra<br>spotted paca<br>central american agouti<br>nutria",
           1
          ],
          [
           "domestic chicken",
           1
          ],
          [
           "domestic chicken<br>blood pheasant<br>rufescent tiger-heron<br>domestic cattle<br>wild boar<br>nutria",
           1
          ],
          [
           "domestic chicken<br>domestic cattle<br>bearded pig<br>wild boar<br>common wombat",
           1
          ],
          [
           "domestic chicken",
           1
          ],
          [
           "white-tailed deer",
           1
          ],
          [
           "domestic cattle<br>wild boar<br>nutria",
           1
          ],
          [
           "domestic cattle<br>wild boar",
           1
          ],
          [
           "domestic chicken<br>domestic cattle",
           1
          ],
          [
           "domestic chicken<br>domestic cattle<br>wild boar",
           1
          ],
          [
           "domestic chicken<br>madagascar crested ibis<br>domestic cattle<br>wild boar<br>collared peccary<br>nine-banded armadillo<br>spotted paca<br>nutria<br>red squirrel",
           1
          ],
          [
           "domestic chicken<br>wild boar<br>crocodile",
           1
          ],
          [
           "domestic chicken<br>domestic cattle<br>wild boar<br>nutria",
           1
          ],
          [
           "domestic chicken<br>domestic cattle",
           1
          ],
          [
           "plains zebra<br>crocodile",
           1
          ],
          [
           "domestic chicken<br>domestic cattle<br>wild boar<br>crocodile",
           1
          ],
          [
           "domestic chicken<br>domestic cattle",
           1
          ],
          [
           "domestic chicken<br>domestic cattle",
           1
          ],
          [
           "bearded pig",
           1
          ],
          [
           "domestic chicken<br>rufescent tiger-heron<br>domestic cattle<br>white-tailed deer<br>wild boar<br>collared peccary<br>white-lipped peccary<br>nine-banded armadillo<br>common tapeti<br>spotted paca<br>central american agouti<br>tome's spiny rat<br>nutria",
           1
          ],
          [
           "domestic chicken<br>wild boar",
           1
          ],
          [
           "domestic chicken<br>rufescent tiger-heron<br>domestic cattle<br>white-tailed deer<br>wild boar<br>collared peccary<br>white-lipped peccary<br>nine-banded armadillo<br>common tapeti<br>spotted paca<br>central american agouti<br>red acouchi<br>tome's spiny rat<br>nutria",
           1
          ],
          [
           "domestic chicken<br>domestic cattle<br>wild boar",
           1
          ],
          [
           "domestic chicken<br>blood pheasant<br>domestic cattle<br>wild boar",
           1
          ],
          [
           "domestic cattle<br>wild boar<br>plains zebra<br>crocodile",
           1
          ],
          [
           "domestic chicken<br>domestic cattle<br>wild boar<br>nutria",
           1
          ],
          [
           "domestic chicken<br>ocellated turkey<br>domestic cattle<br>white-tailed deer<br>collared peccary<br>white-lipped peccary<br>nine-banded armadillo<br>spotted paca<br>central american agouti",
           1
          ],
          [
           "domestic chicken<br>pronghorn<br>domestic cattle<br>white-tailed deer<br>wild boar<br>collared peccary<br>nine-banded armadillo<br>common wombat<br>desert cottontail<br>plains zebra<br>bushy-tailed woodrat<br>spotted paca<br>nutria<br>red squirrel",
           1
          ],
          [
           "domestic chicken",
           1
          ],
          [
           "domestic chicken<br>domestic cattle<br>wild boar<br>plains zebra<br>crocodile",
           1
          ],
          [
           "domestic cattle<br>plains zebra<br>crocodile",
           1
          ],
          [
           "crocodile",
           1
          ],
          [
           "domestic chicken<br>ocellated turkey<br>madagascar crested ibis<br>domestic cattle<br>wild boar<br>nutria",
           1
          ],
          [
           "domestic chicken<br>crocodile",
           1
          ],
          [
           "domestic chicken<br>wild boar",
           1
          ],
          [
           "domestic chicken<br>rufescent tiger-heron<br>domestic cattle<br>wild boar<br>common tapeti<br>nutria",
           1
          ],
          [
           "domestic chicken<br>domestic cattle<br>crocodile",
           1
          ],
          [
           "domestic chicken<br>blood pheasant<br>domestic cattle<br>wild boar<br>nutria",
           1
          ],
          [
           "domestic chicken<br>ocellated turkey<br>rufescent tiger-heron<br>domestic cattle<br>white-tailed deer<br>wild boar<br>collared peccary<br>white-lipped peccary<br>nine-banded armadillo<br>common tapeti<br>spotted paca<br>central american agouti<br>red acouchi<br>tome's spiny rat",
           1
          ],
          [
           "domestic chicken<br>rufescent tiger-heron<br>domestic cattle<br>white-tailed deer<br>wild boar<br>collared peccary<br>white-lipped peccary<br>nine-banded armadillo<br>common tapeti<br>spotted paca<br>central american agouti<br>tome's spiny rat",
           1
          ],
          [
           "domestic chicken<br>domestic cattle<br>white-tailed deer<br>wild boar<br>crocodile",
           1
          ],
          [
           "domestic chicken<br>domestic cattle",
           1
          ],
          [
           "domestic chicken<br>white-tailed deer<br>wild boar",
           1
          ],
          [
           "domestic chicken",
           1
          ],
          [
           "domestic cattle<br>wild boar",
           1
          ],
          [
           "domestic chicken<br>domestic cattle<br>white-tailed deer<br>wild boar<br>plains zebra<br>nutria",
           1
          ],
          [
           "domestic chicken<br>blood pheasant<br>ocellated turkey<br>madagascar crested ibis<br>fossa<br>domestic cattle<br>white-tailed deer<br>bearded pig<br>wild boar<br>collared peccary<br>white-lipped peccary<br>nine-banded armadillo<br>plains zebra<br>spotted paca<br>nutria<br>red squirrel<br>crocodile",
           1
          ],
          [
           "plains zebra<br>crocodile",
           1
          ],
          [
           "domestic chicken<br>ocellated turkey<br>pronghorn<br>domestic cattle<br>wild boar<br>collared peccary<br>nutria",
           1
          ],
          [
           "domestic chicken<br>domestic cattle<br>white-tailed deer<br>wild boar",
           1
          ],
          [
           "domestic chicken<br>domestic cattle<br>wild boar",
           1
          ],
          [
           "domestic chicken<br>rufescent tiger-heron<br>domestic cattle<br>white-tailed deer<br>wild boar<br>collared peccary<br>white-lipped peccary<br>nine-banded armadillo<br>common tapeti<br>spotted paca<br>central american agouti<br>red acouchi<br>tome's spiny rat",
           1
          ],
          [
           "domestic cattle<br>wild boar<br>nutria",
           1
          ],
          [
           "domestic chicken<br>domestic cattle<br>wild boar<br>crocodile",
           1
          ],
          [
           "crocodile",
           1
          ],
          [
           "domestic chicken<br>domestic cattle<br>wild boar<br>collared peccary<br>nutria<br>crocodile",
           1
          ],
          [
           "domestic chicken<br>domestic cattle<br>guenther's dik-dik<br>wild boar<br>plains zebra<br>red squirrel<br>crocodile",
           1
          ],
          [
           "domestic chicken<br>domestic cattle<br>white-tailed deer<br>wild boar<br>nutria",
           1
          ],
          [
           "domestic chicken<br>domestic cattle<br>wild boar",
           1
          ],
          [
           "domestic chicken<br>wild boar",
           1
          ],
          [
           "domestic chicken<br>domestic cattle<br>wild boar",
           1
          ],
          [
           "domestic chicken<br>domestic cattle<br>white-tailed deer<br>wild boar<br>nine-banded armadillo<br>plains zebra<br>red acouchi<br>nutria<br>crocodile",
           1
          ],
          [
           "domestic chicken<br>crocodile",
           1
          ],
          [
           "domestic chicken<br>domestic cattle<br>wild boar<br>plains zebra<br>nutria",
           1
          ],
          [
           "domestic chicken<br>domestic cattle<br>nine-banded armadillo",
           1
          ],
          [
           "domestic chicken<br>domestic cattle<br>wild boar<br>nutria",
           1
          ],
          [
           "domestic chicken<br>rufescent tiger-heron<br>domestic cattle<br>white-tailed deer<br>collared peccary<br>white-lipped peccary<br>nine-banded armadillo<br>spotted paca<br>central american agouti<br>red acouchi",
           1
          ],
          [
           "domestic chicken<br>wild boar<br>plains zebra<br>crocodile",
           1
          ],
          [
           "domestic chicken<br>wild boar",
           1
          ],
          [
           "domestic cattle<br>wild boar",
           1
          ],
          [
           "domestic cattle<br>wild boar<br>crocodile",
           1
          ],
          [
           "wild boar<br>crocodile",
           1
          ],
          [
           "domestic chicken<br>wild boar",
           1
          ],
          [
           "domestic chicken<br>domestic cattle<br>wild boar",
           1
          ],
          [
           "domestic chicken<br>domestic cattle<br>wild boar<br>nutria",
           1
          ],
          [
           "domestic chicken<br>ocellated turkey<br>rufescent tiger-heron<br>domestic cattle<br>white-tailed deer<br>wild boar<br>collared peccary<br>white-lipped peccary<br>nine-banded armadillo<br>common tapeti<br>spotted paca<br>central american agouti<br>red squirrel",
           1
          ],
          [
           "domestic chicken<br>domestic cattle<br>wild boar",
           1
          ],
          [
           "domestic chicken<br>crocodile",
           1
          ],
          [
           "domestic chicken<br>rufescent tiger-heron<br>domestic cattle<br>white-tailed deer<br>wild boar<br>collared peccary<br>white-lipped peccary<br>nine-banded armadillo<br>spotted paca<br>central american agouti<br>red acouchi",
           1
          ],
          [
           "domestic chicken<br>domestic cattle<br>wild boar",
           1
          ],
          [
           "domestic chicken<br>ocellated turkey<br>rufescent tiger-heron<br>white-tailed deer<br>wild boar<br>collared peccary<br>white-lipped peccary<br>nine-banded armadillo<br>spotted paca<br>central american agouti<br>tome's spiny rat",
           1
          ],
          [
           "domestic chicken<br>domestic cattle<br>wild boar<br>nutria",
           1
          ],
          [
           "domestic chicken<br>domestic cattle",
           1
          ],
          [
           "domestic chicken<br>domestic cattle<br>wild boar<br>nutria",
           1
          ],
          [
           "domestic chicken<br>domestic cattle<br>bearded pig<br>wild boar<br>red squirrel<br>crocodile",
           1
          ],
          [
           "domestic chicken<br>domestic cattle<br>wild boar<br>nutria",
           1
          ],
          [
           "domestic chicken<br>domestic cattle<br>wild boar<br>nutria<br>crocodile",
           1
          ],
          [
           "domestic chicken<br>domestic cattle",
           1
          ],
          [
           "domestic chicken<br>blood pheasant<br>domestic cattle<br>wild boar<br>white-lipped peccary<br>nine-banded armadillo<br>crocodile",
           1
          ],
          [
           "domestic chicken",
           1
          ],
          [
           "domestic cattle<br>wild boar",
           1
          ],
          [
           "domestic chicken<br>domestic cattle<br>wild boar<br>nutria",
           1
          ],
          [
           "domestic cattle<br>wild boar",
           1
          ],
          [
           "domestic chicken<br>domestic cattle<br>wild boar<br>nutria<br>red squirrel",
           1
          ],
          [
           "domestic chicken<br>domestic cattle<br>nutria",
           1
          ],
          [
           "domestic chicken<br>domestic cattle<br>wild boar",
           1
          ],
          [
           "domestic chicken<br>wild boar<br>nutria",
           1
          ],
          [
           "domestic chicken<br>pronghorn<br>domestic cattle<br>wild boar<br>nine-banded armadillo<br>common wombat<br>plains zebra<br>nutria<br>crocodile",
           1
          ],
          [
           "domestic chicken<br>domestic cattle<br>guenther's dik-dik<br>white-tailed deer<br>wild boar<br>plains zebra<br>nutria<br>crocodile",
           1
          ],
          [
           "domestic chicken<br>domestic cattle<br>wild boar",
           1
          ],
          [
           "domestic chicken<br>domestic cattle<br>wild boar",
           1
          ],
          [
           "domestic chicken<br>domestic cattle<br>white-tailed deer<br>wild boar",
           1
          ],
          [
           "domestic cattle<br>wild boar",
           1
          ],
          [
           "domestic chicken<br>domestic cattle<br>wild boar<br>nutria",
           1
          ],
          [
           "domestic chicken<br>domestic cattle",
           1
          ],
          [
           "domestic chicken<br>domestic cattle<br>central american agouti",
           1
          ],
          [
           "domestic cattle<br>wild boar<br>nutria",
           1
          ],
          [
           "domestic chicken<br>domestic cattle<br>wild boar",
           1
          ],
          [
           "domestic chicken<br>wild boar<br>nutria",
           1
          ],
          [
           "domestic chicken<br>domestic cattle<br>wild boar",
           1
          ],
          [
           "wild boar",
           1
          ],
          [
           "domestic cattle<br>wild boar",
           1
          ],
          [
           "domestic chicken<br>crocodile",
           1
          ],
          [
           "domestic chicken",
           1
          ],
          [
           "domestic chicken<br>wild boar<br>nutria",
           1
          ],
          [
           "domestic chicken<br>domestic cattle<br>wild boar<br>nutria",
           1
          ],
          [
           "domestic cattle<br>wild boar",
           1
          ],
          [
           "wild boar<br>plains zebra",
           1
          ],
          [
           "domestic chicken<br>domestic cattle<br>wild boar",
           1
          ],
          [
           "domestic cattle<br>wild boar",
           1
          ],
          [
           "domestic cattle<br>wild boar",
           1
          ],
          [
           "wild boar",
           1
          ],
          [
           "domestic chicken<br>madagascar crested ibis<br>fossa<br>domestic cattle<br>wild boar<br>eastern red forest rat<br>crocodile",
           1
          ],
          [
           "domestic chicken",
           1
          ],
          [
           "domestic cattle<br>wild boar<br>nutria",
           1
          ],
          [
           "crocodile",
           1
          ],
          [
           "domestic chicken<br>blood pheasant<br>domestic cattle<br>wild boar",
           1
          ],
          [
           "domestic cattle<br>wild boar",
           1
          ],
          [
           "domestic chicken<br>wild boar",
           1
          ],
          [
           "domestic chicken<br>domestic cattle<br>wild boar",
           1
          ],
          [
           "crocodile",
           1
          ],
          [
           "domestic chicken<br>wild boar",
           1
          ],
          [
           "domestic chicken<br>domestic cattle<br>wild boar",
           1
          ],
          [
           "domestic chicken<br>domestic cattle<br>wild boar<br>crocodile",
           1
          ],
          [
           "domestic chicken",
           1
          ],
          [
           "wild boar<br>plains zebra<br>crocodile",
           1
          ],
          [
           "domestic chicken<br>ocellated turkey<br>rufescent tiger-heron<br>pronghorn<br>domestic cattle<br>white-tailed deer<br>wild boar<br>collared peccary<br>white-lipped peccary<br>nine-banded armadillo<br>desert cottontail<br>common tapeti<br>bushy-tailed woodrat<br>spotted paca<br>central american agouti<br>tome's spiny rat<br>nutria<br>red squirrel<br>crocodile<br>western pond turtle",
           1
          ],
          [
           "domestic chicken<br>domestic cattle<br>bearded pig<br>wild boar",
           1
          ],
          [
           "domestic chicken<br>domestic cattle<br>plains zebra<br>crocodile",
           1
          ],
          [
           "domestic chicken<br>domestic cattle<br>desert cottontail<br>plains zebra<br>bushy-tailed woodrat<br>tome's spiny rat<br>red squirrel<br>crocodile",
           1
          ],
          [
           "domestic chicken<br>domestic cattle<br>wild boar<br>nutria",
           1
          ],
          [
           "domestic cattle<br>crocodile",
           1
          ],
          [
           "domestic chicken",
           1
          ],
          [
           "domestic chicken<br>rufescent tiger-heron<br>madagascar crested ibis<br>pronghorn<br>domestic cattle<br>white-tailed deer<br>plains zebra<br>crocodile",
           1
          ],
          [
           "domestic chicken<br>rufescent tiger-heron<br>domestic cattle<br>white-tailed deer<br>wild boar<br>collared peccary<br>white-lipped peccary<br>nine-banded armadillo<br>common tapeti<br>spotted paca<br>central american agouti<br>tome's spiny rat",
           1
          ],
          [
           "domestic chicken<br>ocellated turkey<br>domestic cattle<br>wild boar<br>plains zebra<br>nutria<br>red squirrel",
           1
          ],
          [
           "domestic chicken<br>domestic cattle<br>wild boar<br>nutria",
           1
          ],
          [
           "domestic chicken<br>blood pheasant<br>domestic cattle<br>wild boar<br>white-lipped peccary",
           1
          ],
          [
           "domestic chicken<br>wild boar",
           1
          ],
          [
           "domestic chicken<br>domestic cattle<br>white-tailed deer<br>wild boar",
           1
          ],
          [
           "domestic cattle",
           1
          ],
          [
           "domestic chicken<br>rufescent tiger-heron<br>domestic cattle<br>white-tailed deer<br>wild boar<br>collared peccary<br>white-lipped peccary<br>nine-banded armadillo<br>common tapeti<br>spotted paca<br>central american agouti<br>tome's spiny rat",
           1
          ],
          [
           "domestic chicken<br>rufescent tiger-heron<br>domestic cattle<br>white-tailed deer<br>wild boar<br>collared peccary<br>white-lipped peccary<br>nine-banded armadillo<br>common tapeti<br>plains zebra<br>spotted paca<br>central american agouti<br>red acouchi",
           1
          ],
          [
           "domestic chicken<br>domestic cattle<br>wild boar",
           1
          ],
          [
           "domestic chicken<br>wild boar",
           1
          ],
          [
           "domestic chicken<br>domestic cattle<br>bearded pig<br>wild boar<br>crocodile",
           1
          ],
          [
           "domestic cattle<br>wild boar",
           1
          ],
          [
           "domestic chicken<br>domestic cattle<br>wild boar<br>nutria<br>crocodile",
           1
          ],
          [
           "white-tailed deer",
           1
          ],
          [
           "domestic chicken<br>domestic cattle<br>white-tailed deer<br>wild boar",
           1
          ],
          [
           "wild boar<br>nutria",
           1
          ],
          [
           "domestic chicken<br>domestic cattle<br>wild boar",
           1
          ],
          [
           "domestic chicken",
           1
          ],
          [
           "rufescent tiger-heron<br>white-tailed deer<br>wild boar<br>collared peccary<br>white-lipped peccary<br>nine-banded armadillo<br>common tapeti<br>spotted paca<br>nutria",
           1
          ],
          [
           "domestic chicken",
           1
          ],
          [
           "domestic cattle<br>wild boar",
           1
          ],
          [
           "domestic chicken<br>domestic cattle<br>wild boar<br>nutria",
           1
          ],
          [
           "domestic chicken<br>domestic cattle<br>wild boar<br>nutria",
           1
          ],
          [
           "domestic chicken<br>domestic cattle<br>wild boar<br>plains zebra<br>nutria",
           1
          ],
          [
           "domestic cattle<br>plains zebra<br>crocodile",
           1
          ],
          [
           "crocodile",
           1
          ],
          [
           "domestic chicken<br>domestic cattle<br>wild boar",
           1
          ],
          [
           "domestic chicken",
           1
          ],
          [
           "domestic cattle<br>guenther's dik-dik<br>wild boar<br>plains zebra<br>crocodile",
           1
          ],
          [
           "domestic chicken<br>domestic cattle<br>white-tailed deer<br>wild boar<br>plains zebra<br>nutria",
           1
          ],
          [
           "domestic chicken<br>domestic cattle<br>wild boar",
           1
          ],
          [
           "domestic cattle",
           1
          ],
          [
           "domestic chicken<br>domestic cattle<br>wild boar<br>nutria",
           1
          ],
          [
           "domestic chicken<br>domestic cattle<br>wild boar<br>nutria",
           1
          ],
          [
           "domestic chicken<br>crocodile",
           1
          ],
          [
           "domestic cattle<br>wild boar<br>plains zebra<br>crocodile",
           1
          ],
          [
           "guenther's dik-dik<br>crocodile",
           1
          ],
          [
           "rufescent tiger-heron<br>domestic cattle<br>white-tailed deer<br>wild boar<br>collared peccary<br>white-lipped peccary<br>nine-banded armadillo<br>common tapeti<br>spotted paca<br>red acouchi<br>nutria",
           1
          ],
          [
           "guenther's dik-dik<br>plains zebra<br>crocodile",
           1
          ],
          [
           "wild boar",
           1
          ],
          [
           "domestic chicken<br>rufescent tiger-heron<br>domestic cattle<br>white-tailed deer<br>wild boar<br>collared peccary<br>nine-banded armadillo<br>spotted paca<br>central american agouti",
           1
          ],
          [
           "domestic chicken",
           1
          ],
          [
           "domestic cattle<br>wild boar<br>nutria",
           1
          ],
          [
           "domestic cattle<br>plains zebra<br>crocodile",
           1
          ],
          [
           "domestic chicken",
           1
          ],
          [
           "wild boar<br>crocodile",
           1
          ],
          [
           "domestic chicken<br>plains zebra<br>crocodile",
           1
          ],
          [
           "domestic chicken<br>blood pheasant<br>domestic cattle<br>wild boar",
           1
          ],
          [
           "domestic chicken<br>wild boar<br>nutria",
           1
          ],
          [
           "wild boar",
           1
          ],
          [
           "domestic chicken",
           1
          ],
          [
           "wild boar",
           1
          ],
          [
           "domestic chicken<br>wild boar",
           1
          ],
          [
           "domestic chicken<br>wild boar",
           1
          ],
          [
           "domestic chicken<br>domestic cattle<br>wild boar<br>nutria",
           1
          ],
          [
           "domestic chicken<br>rufescent tiger-heron<br>domestic cattle<br>white-tailed deer<br>collared peccary<br>nine-banded armadillo<br>spotted paca",
           1
          ],
          [
           "domestic chicken<br>domestic cattle<br>wild boar",
           1
          ],
          [
           "domestic chicken<br>domestic cattle<br>guenther's dik-dik<br>plains zebra<br>crocodile",
           1
          ],
          [
           "domestic chicken<br>domestic cattle<br>wild boar<br>plains zebra<br>nutria",
           1
          ],
          [
           "domestic chicken<br>domestic cattle<br>guenther's dik-dik<br>wild boar<br>plains zebra<br>crocodile",
           1
          ],
          [
           "domestic chicken<br>blood pheasant<br>ocellated turkey<br>rufescent tiger-heron<br>fossa<br>pronghorn<br>domestic cattle<br>guenther's dik-dik<br>white-tailed deer<br>wild boar<br>collared peccary<br>white-lipped peccary<br>nine-banded armadillo<br>common wombat<br>desert cottontail<br>plains zebra<br>bushy-tailed woodrat<br>spotted paca<br>central american agouti<br>red acouchi<br>nutria<br>red squirrel<br>crocodile<br>western pond turtle",
           1
          ],
          [
           "domestic chicken<br>rufescent tiger-heron<br>domestic cattle<br>wild boar<br>collared peccary<br>nine-banded armadillo<br>spotted paca<br>nutria",
           1
          ],
          [
           "domestic cattle<br>wild boar<br>nutria",
           1
          ],
          [
           "domestic cattle",
           1
          ],
          [
           "domestic chicken<br>rufescent tiger-heron<br>domestic cattle<br>white-tailed deer<br>wild boar<br>collared peccary<br>white-lipped peccary<br>nine-banded armadillo<br>common tapeti<br>spotted paca<br>central american agouti<br>red acouchi<br>tome's spiny rat<br>nutria",
           1
          ],
          [
           "domestic chicken<br>domestic cattle",
           1
          ],
          [
           "domestic chicken<br>domestic cattle<br>white-tailed deer<br>wild boar",
           1
          ],
          [
           "domestic chicken<br>domestic cattle<br>wild boar",
           1
          ],
          [
           "domestic chicken<br>domestic cattle<br>wild boar",
           1
          ],
          [
           "domestic cattle<br>wild boar",
           1
          ],
          [
           "domestic chicken<br>domestic cattle<br>wild boar",
           1
          ],
          [
           "domestic chicken<br>domestic cattle",
           1
          ],
          [
           "domestic cattle",
           1
          ],
          [
           "domestic chicken<br>domestic cattle<br>white-tailed deer<br>wild boar<br>collared peccary<br>white-lipped peccary<br>common tapeti<br>plains zebra<br>spotted paca<br>nutria<br>crocodile",
           1
          ],
          [
           "domestic cattle<br>wild boar<br>nine-banded armadillo<br>plains zebra<br>crocodile",
           1
          ],
          [
           "domestic cattle<br>plains zebra<br>crocodile",
           1
          ]
         ],
         "geo": "geo",
         "hovertemplate": "<b>%{location}</b><br>Species:<br>%{customdata[0]}<extra></extra>",
         "hovertext": [
          "AD",
          "AE",
          "AF",
          "AG",
          "AI",
          "AL",
          "AM",
          "AO",
          "AR",
          "AS",
          "AT",
          "AU",
          "AW",
          "AX",
          "AZ",
          "BA",
          "BB",
          "BD",
          "BE",
          "BF",
          "BG",
          "BH",
          "BI",
          "BJ",
          "BL",
          "BM",
          "BN",
          "BO",
          "BQ",
          "BR",
          "BS",
          "BT",
          "BW",
          "BY",
          "BZ",
          "CA",
          "CC",
          "CD",
          "CF",
          "CG",
          "CH",
          "CI",
          "CK",
          "CL",
          "CM",
          "CN",
          "CO",
          "CR",
          "CU",
          "CV",
          "CW",
          "CX",
          "CY",
          "CZ",
          "DE",
          "DJ",
          "DK",
          "DO",
          "DZ",
          "EC",
          "EE",
          "EG",
          "ER",
          "ES",
          "ET",
          "FI",
          "FJ",
          "FM",
          "FO",
          "FR",
          "GA",
          "GB",
          "GD",
          "GE",
          "GF",
          "GH",
          "GI",
          "GL",
          "GM",
          "GN",
          "GP",
          "GQ",
          "GR",
          "GT",
          "GU",
          "GW",
          "GY",
          "HK",
          "HN",
          "HR",
          "HT",
          "HU",
          "ID",
          "IE",
          "IL",
          "IM",
          "IN",
          "IO",
          "IQ",
          "IR",
          "IS",
          "IT",
          "JE",
          "JM",
          "JO",
          "JP",
          "KE",
          "KG",
          "KH",
          "KN",
          "KP",
          "KR",
          "KW",
          "KY",
          "KZ",
          "LA",
          "LB",
          "LC",
          "LI",
          "LK",
          "LR",
          "LS",
          "LT",
          "LU",
          "LV",
          "LY",
          "MA",
          "MD",
          "ME",
          "MF",
          "MG",
          "MH",
          "MK",
          "ML",
          "MM",
          "MN",
          "MP",
          "MQ",
          "MR",
          "MS",
          "MT",
          "MU",
          "MV",
          "MW",
          "MX",
          "MY",
          "MZ",
          "NA",
          "NC",
          "NE",
          "NF",
          "NG",
          "NI",
          "NL",
          "NO",
          "NP",
          "NU",
          "NZ",
          "OM",
          "PA",
          "PE",
          "PF",
          "PG",
          "PH",
          "PK",
          "PL",
          "PM",
          "PR",
          "PS",
          "PT",
          "PW",
          "PY",
          "QA",
          "RE",
          "RO",
          "RS",
          "RU",
          "RW",
          "SA",
          "SB",
          "SC",
          "SD",
          "SE",
          "SG",
          "SH",
          "SI",
          "SK",
          "SL",
          "SN",
          "SO",
          "SR",
          "SS",
          "ST",
          "SV",
          "SX",
          "SY",
          "SZ",
          "TC",
          "TD",
          "TG",
          "TH",
          "TJ",
          "TK",
          "TL",
          "TM",
          "TN",
          "TO",
          "TR",
          "TT",
          "TW",
          "TZ",
          "UA",
          "UG",
          "US",
          "UY",
          "UZ",
          "VC",
          "VE",
          "VG",
          "VI",
          "VN",
          "VU",
          "WF",
          "WS",
          "YE",
          "YT",
          "ZA",
          "ZM",
          "ZW"
         ],
         "locations": [
          "AND",
          "ARE",
          "AFG",
          "ATG",
          "AIA",
          "ALB",
          "ARM",
          "AGO",
          "ARG",
          "ASM",
          "AUT",
          "AUS",
          "ABW",
          "ALA",
          "AZE",
          "BIH",
          "BRB",
          "BGD",
          "BEL",
          "BFA",
          "BGR",
          "BHR",
          "BDI",
          "BEN",
          "BLM",
          "BMU",
          "BRN",
          "BOL",
          "BES",
          "BRA",
          "BHS",
          "BTN",
          "BWA",
          "BLR",
          "BLZ",
          "CAN",
          "CCK",
          "COD",
          "CAF",
          "COG",
          "CHE",
          "CIV",
          "COK",
          "CHL",
          "CMR",
          "CHN",
          "COL",
          "CRI",
          "CUB",
          "CPV",
          "CUW",
          "CXR",
          "CYP",
          "CZE",
          "DEU",
          "DJI",
          "DNK",
          "DOM",
          "DZA",
          "ECU",
          "EST",
          "EGY",
          "ERI",
          "ESP",
          "ETH",
          "FIN",
          "FJI",
          "FSM",
          "FRO",
          "FRA",
          "GAB",
          "GBR",
          "GRD",
          "GEO",
          "GUF",
          "GHA",
          "GIB",
          "GRL",
          "GMB",
          "GIN",
          "GLP",
          "GNQ",
          "GRC",
          "GTM",
          "GUM",
          "GNB",
          "GUY",
          "HKG",
          "HND",
          "HRV",
          "HTI",
          "HUN",
          "IDN",
          "IRL",
          "ISR",
          "IMN",
          "IND",
          "IOT",
          "IRQ",
          "IRN",
          "ISL",
          "ITA",
          "JEY",
          "JAM",
          "JOR",
          "JPN",
          "KEN",
          "KGZ",
          "KHM",
          "KNA",
          "PRK",
          "KOR",
          "KWT",
          "CYM",
          "KAZ",
          "LAO",
          "LBN",
          "LCA",
          "LIE",
          "LKA",
          "LBR",
          "LSO",
          "LTU",
          "LUX",
          "LVA",
          "LBY",
          "MAR",
          "MDA",
          "MNE",
          "MAF",
          "MDG",
          "MHL",
          "MKD",
          "MLI",
          "MMR",
          "MNG",
          "MNP",
          "MTQ",
          "MRT",
          "MSR",
          "MLT",
          "MUS",
          "MDV",
          "MWI",
          "MEX",
          "MYS",
          "MOZ",
          "NAM",
          "NCL",
          "NER",
          "NFK",
          "NGA",
          "NIC",
          "NLD",
          "NOR",
          "NPL",
          "NIU",
          "NZL",
          "OMN",
          "PAN",
          "PER",
          "PYF",
          "PNG",
          "PHL",
          "PAK",
          "POL",
          "SPM",
          "PRI",
          "PSE",
          "PRT",
          "PLW",
          "PRY",
          "QAT",
          "REU",
          "ROU",
          "SRB",
          "RUS",
          "RWA",
          "SAU",
          "SLB",
          "SYC",
          "SDN",
          "SWE",
          "SGP",
          "SHN",
          "SVN",
          "SVK",
          "SLE",
          "SEN",
          "SOM",
          "SUR",
          "SSD",
          "STP",
          "SLV",
          "SXM",
          "SYR",
          "SWZ",
          "TCA",
          "TCD",
          "TGO",
          "THA",
          "TJK",
          "TKL",
          "TLS",
          "TKM",
          "TUN",
          "TON",
          "TUR",
          "TTO",
          "TWN",
          "TZA",
          "UKR",
          "UGA",
          "USA",
          "URY",
          "UZB",
          "VCT",
          "VEN",
          "VGB",
          "VIR",
          "VNM",
          "VUT",
          "WLF",
          "WSM",
          "YEM",
          "MYT",
          "ZAF",
          "ZMB",
          "ZWE"
         ],
         "name": "",
         "type": "choropleth",
         "z": {
          "bdata": "AQEBAQEBAQEBAQEBAQEBAQEBAQEBAQEBAQEBAQEBAQEBAQEBAQEBAQEBAQEBAQEBAQEBAQEBAQEBAQEBAQEBAQEBAQEBAQEBAQEBAQEBAQEBAQEBAQEBAQEBAQEBAQEBAQEBAQEBAQEBAQEBAQEBAQEBAQEBAQEBAQEBAQEBAQEBAQEBAQEBAQEBAQEBAQEBAQEBAQEBAQEBAQEBAQEBAQEBAQEBAQEBAQEBAQEBAQEBAQEBAQEBAQEBAQEBAQEBAQEBAQEBAQEBAQEBAQEBAQEBAQEBAQEBAQEBAQEBAQEBAQEBAQ==",
          "dtype": "i1"
         }
        }
       ],
       "layout": {
        "coloraxis": {
         "colorbar": {
          "title": {
           "text": "presence"
          }
         },
         "colorscale": [
          [
           0,
           "#440154"
          ],
          [
           0.1111111111111111,
           "#482878"
          ],
          [
           0.2222222222222222,
           "#3e4989"
          ],
          [
           0.3333333333333333,
           "#31688e"
          ],
          [
           0.4444444444444444,
           "#26828e"
          ],
          [
           0.5555555555555556,
           "#1f9e89"
          ],
          [
           0.6666666666666666,
           "#35b779"
          ],
          [
           0.7777777777777778,
           "#6ece58"
          ],
          [
           0.8888888888888888,
           "#b5de2b"
          ],
          [
           1,
           "#fde725"
          ]
         ]
        },
        "geo": {
         "center": {},
         "domain": {
          "x": [
           0,
           1
          ],
          "y": [
           0,
           1
          ]
         },
         "scope": "world"
        },
        "legend": {
         "tracegroupgap": 0
        },
        "template": {
         "data": {
          "bar": [
           {
            "error_x": {
             "color": "#2a3f5f"
            },
            "error_y": {
             "color": "#2a3f5f"
            },
            "marker": {
             "line": {
              "color": "#E5ECF6",
              "width": 0.5
             },
             "pattern": {
              "fillmode": "overlay",
              "size": 10,
              "solidity": 0.2
             }
            },
            "type": "bar"
           }
          ],
          "barpolar": [
           {
            "marker": {
             "line": {
              "color": "#E5ECF6",
              "width": 0.5
             },
             "pattern": {
              "fillmode": "overlay",
              "size": 10,
              "solidity": 0.2
             }
            },
            "type": "barpolar"
           }
          ],
          "carpet": [
           {
            "aaxis": {
             "endlinecolor": "#2a3f5f",
             "gridcolor": "white",
             "linecolor": "white",
             "minorgridcolor": "white",
             "startlinecolor": "#2a3f5f"
            },
            "baxis": {
             "endlinecolor": "#2a3f5f",
             "gridcolor": "white",
             "linecolor": "white",
             "minorgridcolor": "white",
             "startlinecolor": "#2a3f5f"
            },
            "type": "carpet"
           }
          ],
          "choropleth": [
           {
            "colorbar": {
             "outlinewidth": 0,
             "ticks": ""
            },
            "type": "choropleth"
           }
          ],
          "contour": [
           {
            "colorbar": {
             "outlinewidth": 0,
             "ticks": ""
            },
            "colorscale": [
             [
              0,
              "#0d0887"
             ],
             [
              0.1111111111111111,
              "#46039f"
             ],
             [
              0.2222222222222222,
              "#7201a8"
             ],
             [
              0.3333333333333333,
              "#9c179e"
             ],
             [
              0.4444444444444444,
              "#bd3786"
             ],
             [
              0.5555555555555556,
              "#d8576b"
             ],
             [
              0.6666666666666666,
              "#ed7953"
             ],
             [
              0.7777777777777778,
              "#fb9f3a"
             ],
             [
              0.8888888888888888,
              "#fdca26"
             ],
             [
              1,
              "#f0f921"
             ]
            ],
            "type": "contour"
           }
          ],
          "contourcarpet": [
           {
            "colorbar": {
             "outlinewidth": 0,
             "ticks": ""
            },
            "type": "contourcarpet"
           }
          ],
          "heatmap": [
           {
            "colorbar": {
             "outlinewidth": 0,
             "ticks": ""
            },
            "colorscale": [
             [
              0,
              "#0d0887"
             ],
             [
              0.1111111111111111,
              "#46039f"
             ],
             [
              0.2222222222222222,
              "#7201a8"
             ],
             [
              0.3333333333333333,
              "#9c179e"
             ],
             [
              0.4444444444444444,
              "#bd3786"
             ],
             [
              0.5555555555555556,
              "#d8576b"
             ],
             [
              0.6666666666666666,
              "#ed7953"
             ],
             [
              0.7777777777777778,
              "#fb9f3a"
             ],
             [
              0.8888888888888888,
              "#fdca26"
             ],
             [
              1,
              "#f0f921"
             ]
            ],
            "type": "heatmap"
           }
          ],
          "histogram": [
           {
            "marker": {
             "pattern": {
              "fillmode": "overlay",
              "size": 10,
              "solidity": 0.2
             }
            },
            "type": "histogram"
           }
          ],
          "histogram2d": [
           {
            "colorbar": {
             "outlinewidth": 0,
             "ticks": ""
            },
            "colorscale": [
             [
              0,
              "#0d0887"
             ],
             [
              0.1111111111111111,
              "#46039f"
             ],
             [
              0.2222222222222222,
              "#7201a8"
             ],
             [
              0.3333333333333333,
              "#9c179e"
             ],
             [
              0.4444444444444444,
              "#bd3786"
             ],
             [
              0.5555555555555556,
              "#d8576b"
             ],
             [
              0.6666666666666666,
              "#ed7953"
             ],
             [
              0.7777777777777778,
              "#fb9f3a"
             ],
             [
              0.8888888888888888,
              "#fdca26"
             ],
             [
              1,
              "#f0f921"
             ]
            ],
            "type": "histogram2d"
           }
          ],
          "histogram2dcontour": [
           {
            "colorbar": {
             "outlinewidth": 0,
             "ticks": ""
            },
            "colorscale": [
             [
              0,
              "#0d0887"
             ],
             [
              0.1111111111111111,
              "#46039f"
             ],
             [
              0.2222222222222222,
              "#7201a8"
             ],
             [
              0.3333333333333333,
              "#9c179e"
             ],
             [
              0.4444444444444444,
              "#bd3786"
             ],
             [
              0.5555555555555556,
              "#d8576b"
             ],
             [
              0.6666666666666666,
              "#ed7953"
             ],
             [
              0.7777777777777778,
              "#fb9f3a"
             ],
             [
              0.8888888888888888,
              "#fdca26"
             ],
             [
              1,
              "#f0f921"
             ]
            ],
            "type": "histogram2dcontour"
           }
          ],
          "mesh3d": [
           {
            "colorbar": {
             "outlinewidth": 0,
             "ticks": ""
            },
            "type": "mesh3d"
           }
          ],
          "parcoords": [
           {
            "line": {
             "colorbar": {
              "outlinewidth": 0,
              "ticks": ""
             }
            },
            "type": "parcoords"
           }
          ],
          "pie": [
           {
            "automargin": true,
            "type": "pie"
           }
          ],
          "scatter": [
           {
            "fillpattern": {
             "fillmode": "overlay",
             "size": 10,
             "solidity": 0.2
            },
            "type": "scatter"
           }
          ],
          "scatter3d": [
           {
            "line": {
             "colorbar": {
              "outlinewidth": 0,
              "ticks": ""
             }
            },
            "marker": {
             "colorbar": {
              "outlinewidth": 0,
              "ticks": ""
             }
            },
            "type": "scatter3d"
           }
          ],
          "scattercarpet": [
           {
            "marker": {
             "colorbar": {
              "outlinewidth": 0,
              "ticks": ""
             }
            },
            "type": "scattercarpet"
           }
          ],
          "scattergeo": [
           {
            "marker": {
             "colorbar": {
              "outlinewidth": 0,
              "ticks": ""
             }
            },
            "type": "scattergeo"
           }
          ],
          "scattergl": [
           {
            "marker": {
             "colorbar": {
              "outlinewidth": 0,
              "ticks": ""
             }
            },
            "type": "scattergl"
           }
          ],
          "scattermap": [
           {
            "marker": {
             "colorbar": {
              "outlinewidth": 0,
              "ticks": ""
             }
            },
            "type": "scattermap"
           }
          ],
          "scattermapbox": [
           {
            "marker": {
             "colorbar": {
              "outlinewidth": 0,
              "ticks": ""
             }
            },
            "type": "scattermapbox"
           }
          ],
          "scatterpolar": [
           {
            "marker": {
             "colorbar": {
              "outlinewidth": 0,
              "ticks": ""
             }
            },
            "type": "scatterpolar"
           }
          ],
          "scatterpolargl": [
           {
            "marker": {
             "colorbar": {
              "outlinewidth": 0,
              "ticks": ""
             }
            },
            "type": "scatterpolargl"
           }
          ],
          "scatterternary": [
           {
            "marker": {
             "colorbar": {
              "outlinewidth": 0,
              "ticks": ""
             }
            },
            "type": "scatterternary"
           }
          ],
          "surface": [
           {
            "colorbar": {
             "outlinewidth": 0,
             "ticks": ""
            },
            "colorscale": [
             [
              0,
              "#0d0887"
             ],
             [
              0.1111111111111111,
              "#46039f"
             ],
             [
              0.2222222222222222,
              "#7201a8"
             ],
             [
              0.3333333333333333,
              "#9c179e"
             ],
             [
              0.4444444444444444,
              "#bd3786"
             ],
             [
              0.5555555555555556,
              "#d8576b"
             ],
             [
              0.6666666666666666,
              "#ed7953"
             ],
             [
              0.7777777777777778,
              "#fb9f3a"
             ],
             [
              0.8888888888888888,
              "#fdca26"
             ],
             [
              1,
              "#f0f921"
             ]
            ],
            "type": "surface"
           }
          ],
          "table": [
           {
            "cells": {
             "fill": {
              "color": "#EBF0F8"
             },
             "line": {
              "color": "white"
             }
            },
            "header": {
             "fill": {
              "color": "#C8D4E3"
             },
             "line": {
              "color": "white"
             }
            },
            "type": "table"
           }
          ]
         },
         "layout": {
          "annotationdefaults": {
           "arrowcolor": "#2a3f5f",
           "arrowhead": 0,
           "arrowwidth": 1
          },
          "autotypenumbers": "strict",
          "coloraxis": {
           "colorbar": {
            "outlinewidth": 0,
            "ticks": ""
           }
          },
          "colorscale": {
           "diverging": [
            [
             0,
             "#8e0152"
            ],
            [
             0.1,
             "#c51b7d"
            ],
            [
             0.2,
             "#de77ae"
            ],
            [
             0.3,
             "#f1b6da"
            ],
            [
             0.4,
             "#fde0ef"
            ],
            [
             0.5,
             "#f7f7f7"
            ],
            [
             0.6,
             "#e6f5d0"
            ],
            [
             0.7,
             "#b8e186"
            ],
            [
             0.8,
             "#7fbc41"
            ],
            [
             0.9,
             "#4d9221"
            ],
            [
             1,
             "#276419"
            ]
           ],
           "sequential": [
            [
             0,
             "#0d0887"
            ],
            [
             0.1111111111111111,
             "#46039f"
            ],
            [
             0.2222222222222222,
             "#7201a8"
            ],
            [
             0.3333333333333333,
             "#9c179e"
            ],
            [
             0.4444444444444444,
             "#bd3786"
            ],
            [
             0.5555555555555556,
             "#d8576b"
            ],
            [
             0.6666666666666666,
             "#ed7953"
            ],
            [
             0.7777777777777778,
             "#fb9f3a"
            ],
            [
             0.8888888888888888,
             "#fdca26"
            ],
            [
             1,
             "#f0f921"
            ]
           ],
           "sequentialminus": [
            [
             0,
             "#0d0887"
            ],
            [
             0.1111111111111111,
             "#46039f"
            ],
            [
             0.2222222222222222,
             "#7201a8"
            ],
            [
             0.3333333333333333,
             "#9c179e"
            ],
            [
             0.4444444444444444,
             "#bd3786"
            ],
            [
             0.5555555555555556,
             "#d8576b"
            ],
            [
             0.6666666666666666,
             "#ed7953"
            ],
            [
             0.7777777777777778,
             "#fb9f3a"
            ],
            [
             0.8888888888888888,
             "#fdca26"
            ],
            [
             1,
             "#f0f921"
            ]
           ]
          },
          "colorway": [
           "#636efa",
           "#EF553B",
           "#00cc96",
           "#ab63fa",
           "#FFA15A",
           "#19d3f3",
           "#FF6692",
           "#B6E880",
           "#FF97FF",
           "#FECB52"
          ],
          "font": {
           "color": "#2a3f5f"
          },
          "geo": {
           "bgcolor": "white",
           "lakecolor": "white",
           "landcolor": "#E5ECF6",
           "showlakes": true,
           "showland": true,
           "subunitcolor": "white"
          },
          "hoverlabel": {
           "align": "left"
          },
          "hovermode": "closest",
          "mapbox": {
           "style": "light"
          },
          "paper_bgcolor": "white",
          "plot_bgcolor": "#E5ECF6",
          "polar": {
           "angularaxis": {
            "gridcolor": "white",
            "linecolor": "white",
            "ticks": ""
           },
           "bgcolor": "#E5ECF6",
           "radialaxis": {
            "gridcolor": "white",
            "linecolor": "white",
            "ticks": ""
           }
          },
          "scene": {
           "xaxis": {
            "backgroundcolor": "#E5ECF6",
            "gridcolor": "white",
            "gridwidth": 2,
            "linecolor": "white",
            "showbackground": true,
            "ticks": "",
            "zerolinecolor": "white"
           },
           "yaxis": {
            "backgroundcolor": "#E5ECF6",
            "gridcolor": "white",
            "gridwidth": 2,
            "linecolor": "white",
            "showbackground": true,
            "ticks": "",
            "zerolinecolor": "white"
           },
           "zaxis": {
            "backgroundcolor": "#E5ECF6",
            "gridcolor": "white",
            "gridwidth": 2,
            "linecolor": "white",
            "showbackground": true,
            "ticks": "",
            "zerolinecolor": "white"
           }
          },
          "shapedefaults": {
           "line": {
            "color": "#2a3f5f"
           }
          },
          "ternary": {
           "aaxis": {
            "gridcolor": "white",
            "linecolor": "white",
            "ticks": ""
           },
           "baxis": {
            "gridcolor": "white",
            "linecolor": "white",
            "ticks": ""
           },
           "bgcolor": "#E5ECF6",
           "caxis": {
            "gridcolor": "white",
            "linecolor": "white",
            "ticks": ""
           }
          },
          "title": {
           "x": 0.05
          },
          "xaxis": {
           "automargin": true,
           "gridcolor": "white",
           "linecolor": "white",
           "ticks": "",
           "title": {
            "standoff": 15
           },
           "zerolinecolor": "white",
           "zerolinewidth": 2
          },
          "yaxis": {
           "automargin": true,
           "gridcolor": "white",
           "linecolor": "white",
           "ticks": "",
           "title": {
            "standoff": 15
           },
           "zerolinecolor": "white",
           "zerolinewidth": 2
          }
         }
        },
        "title": {
         "text": "Species Occurrence by Country"
        }
       }
      }
     },
     "metadata": {},
     "output_type": "display_data"
    }
   ],
   "source": [
    "import pycountry\n",
    "\n",
    "def alpha2_to_alpha3(alpha2):\n",
    "    try:\n",
    "        return pycountry.countries.get(alpha_2=alpha2).alpha_3\n",
    "    except:\n",
    "        return None\n",
    "\n",
    "df_grouped['country_code_3'] = df_grouped['country_code'].apply(alpha2_to_alpha3)\n",
    "\n",
    "display(df_grouped.head())\n",
    "\n",
    "# Drop rows where conversion failed (None)\n",
    "df_grouped = df_grouped.dropna(subset=['country_code_3'])\n",
    "fig = px.choropleth(\n",
    "    df_grouped,\n",
    "    locations='country_code_3',\n",
    "    color='presence',             # just presence\n",
    "    hover_name='country_code',\n",
    "    hover_data={'common_name': True, 'presence': False},\n",
    "    color_continuous_scale='Viridis',\n",
    "    scope='world',\n",
    "    labels={'common_name': 'Species Found'},\n",
    "    title='Species Occurrence by Country'\n",
    ")\n",
    "\n",
    "fig.update_traces(\n",
    "    hovertemplate='<b>%{location}</b><br>Species:<br>%{customdata[0]}<extra></extra>'\n",
    ")\n",
    "\n",
    "fig.show()"
   ]
  },
  {
   "cell_type": "code",
   "execution_count": 53,
   "id": "89a6711f",
   "metadata": {},
   "outputs": [],
   "source": [
    "import re\n",
    "\n",
    "# Mapping full state names to their 2-letter abbreviations\n",
    "us_states = {\n",
    "    'Alabama': 'AL', 'Alaska': 'AK', 'Arizona': 'AZ', 'Arkansas': 'AR',\n",
    "    'California': 'CA', 'Colorado': 'CO', 'Connecticut': 'CT', 'Delaware': 'DE',\n",
    "    'Florida': 'FL', 'Georgia': 'GA', 'Hawaii': 'HI', 'Idaho': 'ID',\n",
    "    'Illinois': 'IL', 'Indiana': 'IN', 'Iowa': 'IA', 'Kansas': 'KS',\n",
    "    'Kentucky': 'KY', 'Louisiana': 'LA', 'Maine': 'ME', 'Maryland': 'MD',\n",
    "    'Massachusetts': 'MA', 'Michigan': 'MI', 'Minnesota': 'MN', 'Mississippi': 'MS',\n",
    "    'Missouri': 'MO', 'Montana': 'MT', 'Nebraska': 'NE', 'Nevada': 'NV',\n",
    "    'New Hampshire': 'NH', 'New Jersey': 'NJ', 'New Mexico': 'NM', 'New York': 'NY',\n",
    "    'North Carolina': 'NC', 'North Dakota': 'ND', 'Ohio': 'OH', 'Oklahoma': 'OK',\n",
    "    'Oregon': 'OR', 'Pennsylvania': 'PA', 'Rhode Island': 'RI', 'South Carolina': 'SC',\n",
    "    'South Dakota': 'SD', 'Tennessee': 'TN', 'Texas': 'TX', 'Utah': 'UT',\n",
    "    'Vermont': 'VT', 'Virginia': 'VA', 'Washington': 'WA', 'West Virginia': 'WV',\n",
    "    'Wisconsin': 'WI', 'Wyoming': 'WY', 'District of Columbia': 'DC'\n",
    "}\n",
    "\n",
    "# Also allow reverse lookup from abbreviation to itself for convenience\n",
    "abbrev_set = set(us_states.values())\n",
    "\n",
    "def normalize_state(state_str):\n",
    "    \"\"\"Normalize various US state formats to 2-letter code.\"\"\"\n",
    "    if not isinstance(state_str, str):\n",
    "        return None\n",
    "\n",
    "    state_str = state_str.strip()\n",
    "\n",
    "    # Case 1: Matches format like \"Texas (TX)\"\n",
    "    m = re.search(r'\\((\\w{2})\\)', state_str)\n",
    "    if m:\n",
    "        code = m.group(1).upper()\n",
    "        if code in abbrev_set:\n",
    "            return code\n",
    "\n",
    "    # Case 2: Is already a 2-letter abbreviation?\n",
    "    if len(state_str) == 2 and state_str.upper() in abbrev_set:\n",
    "        return state_str.upper()\n",
    "\n",
    "    # Case 3: Full state name (case insensitive)\n",
    "    # Capitalize each word for matching keys in us_states dict\n",
    "    normalized_name = ' '.join(word.capitalize() for word in state_str.split())\n",
    "    if normalized_name in us_states:\n",
    "        return us_states[normalized_name]\n",
    "\n",
    "    # If no match found, return None or original string\n",
    "    return None\n"
   ]
  },
  {
   "cell_type": "code",
   "execution_count": 57,
   "id": "2dbe0dc3",
   "metadata": {},
   "outputs": [
    {
     "data": {
      "text/html": [
       "<div>\n",
       "<style scoped>\n",
       "    .dataframe tbody tr th:only-of-type {\n",
       "        vertical-align: middle;\n",
       "    }\n",
       "\n",
       "    .dataframe tbody tr th {\n",
       "        vertical-align: top;\n",
       "    }\n",
       "\n",
       "    .dataframe thead th {\n",
       "        text-align: right;\n",
       "    }\n",
       "</style>\n",
       "<table border=\"1\" class=\"dataframe\">\n",
       "  <thead>\n",
       "    <tr style=\"text-align: right;\">\n",
       "      <th></th>\n",
       "      <th>uuid</th>\n",
       "      <th>class</th>\n",
       "      <th>order</th>\n",
       "      <th>family</th>\n",
       "      <th>genus</th>\n",
       "      <th>species</th>\n",
       "      <th>common_name</th>\n",
       "      <th>scientific_name</th>\n",
       "      <th>taxanomic</th>\n",
       "      <th>countries</th>\n",
       "      <th>us_states</th>\n",
       "      <th>state_code</th>\n",
       "    </tr>\n",
       "  </thead>\n",
       "  <tbody>\n",
       "    <tr>\n",
       "      <th>2806</th>\n",
       "      <td>cae9534f-f302-4229-9e11-b91138333d92</td>\n",
       "      <td>aves</td>\n",
       "      <td>galliformes</td>\n",
       "      <td>phasianidae</td>\n",
       "      <td>gallus</td>\n",
       "      <td>gallus domesticus</td>\n",
       "      <td>domestic chicken</td>\n",
       "      <td>gallus gallus domesticus</td>\n",
       "      <td>9457155</td>\n",
       "      <td>[CO, US, NL, BE, SG, PR, NZ, FR, TH, AU, DE, K...</td>\n",
       "      <td>hawaii</td>\n",
       "      <td>HI</td>\n",
       "    </tr>\n",
       "    <tr>\n",
       "      <th>2806</th>\n",
       "      <td>cae9534f-f302-4229-9e11-b91138333d92</td>\n",
       "      <td>aves</td>\n",
       "      <td>galliformes</td>\n",
       "      <td>phasianidae</td>\n",
       "      <td>gallus</td>\n",
       "      <td>gallus domesticus</td>\n",
       "      <td>domestic chicken</td>\n",
       "      <td>gallus gallus domesticus</td>\n",
       "      <td>9457155</td>\n",
       "      <td>[CO, US, NL, BE, SG, PR, NZ, FR, TH, AU, DE, K...</td>\n",
       "      <td>florida</td>\n",
       "      <td>FL</td>\n",
       "    </tr>\n",
       "    <tr>\n",
       "      <th>2806</th>\n",
       "      <td>cae9534f-f302-4229-9e11-b91138333d92</td>\n",
       "      <td>aves</td>\n",
       "      <td>galliformes</td>\n",
       "      <td>phasianidae</td>\n",
       "      <td>gallus</td>\n",
       "      <td>gallus domesticus</td>\n",
       "      <td>domestic chicken</td>\n",
       "      <td>gallus gallus domesticus</td>\n",
       "      <td>9457155</td>\n",
       "      <td>[CO, US, NL, BE, SG, PR, NZ, FR, TH, AU, DE, K...</td>\n",
       "      <td>california</td>\n",
       "      <td>CA</td>\n",
       "    </tr>\n",
       "    <tr>\n",
       "      <th>2806</th>\n",
       "      <td>cae9534f-f302-4229-9e11-b91138333d92</td>\n",
       "      <td>aves</td>\n",
       "      <td>galliformes</td>\n",
       "      <td>phasianidae</td>\n",
       "      <td>gallus</td>\n",
       "      <td>gallus domesticus</td>\n",
       "      <td>domestic chicken</td>\n",
       "      <td>gallus gallus domesticus</td>\n",
       "      <td>9457155</td>\n",
       "      <td>[CO, US, NL, BE, SG, PR, NZ, FR, TH, AU, DE, K...</td>\n",
       "      <td>texas</td>\n",
       "      <td>TX</td>\n",
       "    </tr>\n",
       "    <tr>\n",
       "      <th>2806</th>\n",
       "      <td>cae9534f-f302-4229-9e11-b91138333d92</td>\n",
       "      <td>aves</td>\n",
       "      <td>galliformes</td>\n",
       "      <td>phasianidae</td>\n",
       "      <td>gallus</td>\n",
       "      <td>gallus domesticus</td>\n",
       "      <td>domestic chicken</td>\n",
       "      <td>gallus gallus domesticus</td>\n",
       "      <td>9457155</td>\n",
       "      <td>[CO, US, NL, BE, SG, PR, NZ, FR, TH, AU, DE, K...</td>\n",
       "      <td>north carolina</td>\n",
       "      <td>NC</td>\n",
       "    </tr>\n",
       "  </tbody>\n",
       "</table>\n",
       "</div>"
      ],
      "text/plain": [
       "                                      uuid class        order       family  \\\n",
       "2806  cae9534f-f302-4229-9e11-b91138333d92  aves  galliformes  phasianidae   \n",
       "2806  cae9534f-f302-4229-9e11-b91138333d92  aves  galliformes  phasianidae   \n",
       "2806  cae9534f-f302-4229-9e11-b91138333d92  aves  galliformes  phasianidae   \n",
       "2806  cae9534f-f302-4229-9e11-b91138333d92  aves  galliformes  phasianidae   \n",
       "2806  cae9534f-f302-4229-9e11-b91138333d92  aves  galliformes  phasianidae   \n",
       "\n",
       "       genus            species       common_name           scientific_name  \\\n",
       "2806  gallus  gallus domesticus  domestic chicken  gallus gallus domesticus   \n",
       "2806  gallus  gallus domesticus  domestic chicken  gallus gallus domesticus   \n",
       "2806  gallus  gallus domesticus  domestic chicken  gallus gallus domesticus   \n",
       "2806  gallus  gallus domesticus  domestic chicken  gallus gallus domesticus   \n",
       "2806  gallus  gallus domesticus  domestic chicken  gallus gallus domesticus   \n",
       "\n",
       "      taxanomic                                          countries  \\\n",
       "2806    9457155  [CO, US, NL, BE, SG, PR, NZ, FR, TH, AU, DE, K...   \n",
       "2806    9457155  [CO, US, NL, BE, SG, PR, NZ, FR, TH, AU, DE, K...   \n",
       "2806    9457155  [CO, US, NL, BE, SG, PR, NZ, FR, TH, AU, DE, K...   \n",
       "2806    9457155  [CO, US, NL, BE, SG, PR, NZ, FR, TH, AU, DE, K...   \n",
       "2806    9457155  [CO, US, NL, BE, SG, PR, NZ, FR, TH, AU, DE, K...   \n",
       "\n",
       "           us_states state_code  \n",
       "2806          hawaii         HI  \n",
       "2806         florida         FL  \n",
       "2806      california         CA  \n",
       "2806           texas         TX  \n",
       "2806  north carolina         NC  "
      ]
     },
     "execution_count": 57,
     "metadata": {},
     "output_type": "execute_result"
    }
   ],
   "source": [
    "# Assuming your states column is a list of strings per row, e.g. ['Texas (TX)', 'CA', 'Florida']\n",
    "\n",
    "# Explode list into rows\n",
    "df_exploded = df_missmatched.explode('us_states')\n",
    "\n",
    "# Normalize states\n",
    "df_exploded['state_code'] = df_exploded['us_states'].apply(normalize_state)\n",
    "\n",
    "# Drop invalid or None\n",
    "df_exploded = df_exploded.dropna(subset=['state_code'])\n",
    "\n",
    "# Now you can group and plot with these cleaned 2-letter codes\n",
    "df_exploded.head()"
   ]
  },
  {
   "cell_type": "code",
   "execution_count": 58,
   "id": "86771924",
   "metadata": {},
   "outputs": [
    {
     "data": {
      "application/vnd.plotly.v1+json": {
       "config": {
        "plotlyServerURL": "https://plot.ly"
       },
       "data": [
        {
         "coloraxis": "coloraxis",
         "customdata": [
          [
           "domestic chicken<br>domestic cattle<br>white-tailed deer<br>wild boar<br>plains zebra<br>bushy-tailed woodrat<br>nutria<br>red squirrel",
           1
          ],
          [
           "domestic chicken<br>domestic cattle<br>white-tailed deer<br>wild boar<br>nine-banded armadillo<br>nutria",
           1
          ],
          [
           "domestic chicken<br>domestic cattle<br>white-tailed deer<br>wild boar<br>nine-banded armadillo<br>desert cottontail<br>nutria<br>red squirrel",
           1
          ],
          [
           "domestic chicken<br>pronghorn<br>domestic cattle<br>white-tailed deer<br>wild boar<br>collared peccary<br>desert cottontail<br>bushy-tailed woodrat<br>nutria<br>red squirrel",
           1
          ],
          [
           "domestic chicken<br>ocellated turkey<br>pronghorn<br>domestic cattle<br>white-tailed deer<br>wild boar<br>collared peccary<br>nine-banded armadillo<br>desert cottontail<br>plains zebra<br>bushy-tailed woodrat<br>spotted paca<br>nutria<br>red squirrel<br>western pond turtle",
           1
          ],
          [
           "domestic chicken<br>pronghorn<br>domestic cattle<br>white-tailed deer<br>wild boar<br>collared peccary<br>white-lipped peccary<br>nine-banded armadillo<br>desert cottontail<br>plains zebra<br>bushy-tailed woodrat<br>spotted paca<br>nutria<br>red squirrel",
           1
          ],
          [
           "domestic chicken<br>domestic cattle<br>white-tailed deer<br>wild boar<br>nine-banded armadillo<br>red squirrel",
           1
          ],
          [
           "white-tailed deer",
           1
          ],
          [
           "domestic chicken<br>domestic cattle<br>white-tailed deer<br>nine-banded armadillo<br>nutria<br>red squirrel",
           1
          ],
          [
           "domestic chicken<br>ocellated turkey<br>pronghorn<br>domestic cattle<br>white-tailed deer<br>wild boar<br>collared peccary<br>nine-banded armadillo<br>nutria<br>red squirrel<br>crocodile",
           1
          ],
          [
           "domestic chicken<br>pronghorn<br>domestic cattle<br>white-tailed deer<br>wild boar<br>nine-banded armadillo<br>nutria<br>red squirrel",
           1
          ],
          [
           "domestic chicken<br>ocellated turkey<br>rufescent tiger-heron<br>domestic cattle<br>white-tailed deer<br>wild boar<br>collared peccary<br>nine-banded armadillo",
           1
          ],
          [
           "domestic chicken<br>domestic cattle<br>white-tailed deer<br>wild boar<br>nine-banded armadillo<br>bushy-tailed woodrat<br>red squirrel",
           1
          ],
          [
           "domestic chicken<br>pronghorn<br>domestic cattle<br>white-tailed deer<br>wild boar<br>bushy-tailed woodrat<br>nutria<br>red squirrel",
           1
          ],
          [
           "domestic chicken<br>domestic cattle<br>white-tailed deer<br>wild boar<br>collared peccary<br>nine-banded armadillo<br>nutria<br>red squirrel",
           1
          ],
          [
           "domestic chicken<br>domestic cattle<br>white-tailed deer<br>nine-banded armadillo<br>red squirrel",
           1
          ],
          [
           "domestic chicken<br>pronghorn<br>domestic cattle<br>white-tailed deer<br>wild boar<br>nine-banded armadillo<br>desert cottontail<br>nutria",
           1
          ],
          [
           "domestic chicken<br>domestic cattle<br>white-tailed deer<br>wild boar<br>nine-banded armadillo<br>red squirrel",
           1
          ],
          [
           "domestic chicken<br>domestic cattle<br>white-tailed deer<br>wild boar<br>nine-banded armadillo<br>nutria",
           1
          ],
          [
           "domestic chicken<br>domestic cattle<br>white-tailed deer<br>wild boar<br>plains zebra<br>nutria<br>red squirrel",
           1
          ],
          [
           "domestic chicken<br>domestic cattle<br>white-tailed deer<br>wild boar<br>nutria<br>red squirrel",
           1
          ],
          [
           "domestic chicken<br>domestic cattle<br>white-tailed deer<br>wild boar<br>nine-banded armadillo<br>red squirrel",
           1
          ],
          [
           "domestic chicken<br>pronghorn<br>domestic cattle<br>white-tailed deer<br>wild boar<br>desert cottontail<br>bushy-tailed woodrat<br>red squirrel",
           1
          ],
          [
           "domestic chicken<br>domestic cattle<br>white-tailed deer<br>wild boar<br>nine-banded armadillo<br>red squirrel",
           1
          ],
          [
           "domestic chicken<br>pronghorn<br>domestic cattle<br>white-tailed deer<br>wild boar<br>nine-banded armadillo<br>nutria<br>red squirrel",
           1
          ],
          [
           "domestic chicken<br>domestic cattle<br>white-tailed deer<br>wild boar<br>nine-banded armadillo<br>nutria",
           1
          ],
          [
           "domestic chicken<br>pronghorn<br>domestic cattle<br>white-tailed deer<br>wild boar<br>desert cottontail<br>bushy-tailed woodrat<br>nutria<br>red squirrel",
           1
          ],
          [
           "domestic chicken<br>domestic cattle<br>white-tailed deer<br>wild boar<br>nine-banded armadillo<br>nutria<br>red squirrel",
           1
          ],
          [
           "pronghorn<br>domestic cattle<br>white-tailed deer<br>desert cottontail<br>bushy-tailed woodrat<br>red squirrel",
           1
          ],
          [
           "domestic chicken<br>fossa<br>pronghorn<br>domestic cattle<br>white-tailed deer<br>wild boar<br>nine-banded armadillo<br>desert cottontail<br>bushy-tailed woodrat<br>red acouchi<br>nutria<br>red squirrel",
           1
          ],
          [
           "domestic chicken<br>domestic cattle<br>white-tailed deer<br>wild boar<br>red squirrel",
           1
          ],
          [
           "domestic chicken<br>domestic cattle<br>white-tailed deer<br>wild boar<br>nutria<br>red squirrel",
           1
          ],
          [
           "domestic chicken<br>pronghorn<br>domestic cattle<br>white-tailed deer<br>wild boar<br>collared peccary<br>nine-banded armadillo<br>common wombat<br>desert cottontail<br>plains zebra<br>bushy-tailed woodrat<br>nutria<br>red squirrel",
           1
          ],
          [
           "domestic chicken<br>pronghorn<br>domestic cattle<br>white-tailed deer<br>wild boar<br>desert cottontail<br>bushy-tailed woodrat<br>nutria<br>western pond turtle",
           1
          ],
          [
           "domestic chicken<br>domestic cattle<br>white-tailed deer<br>wild boar<br>nine-banded armadillo<br>red acouchi<br>nutria<br>red squirrel",
           1
          ],
          [
           "domestic chicken<br>domestic cattle<br>white-tailed deer<br>wild boar<br>plains zebra<br>nutria<br>red squirrel",
           1
          ],
          [
           "domestic chicken<br>ocellated turkey<br>pronghorn<br>domestic cattle<br>white-tailed deer<br>wild boar<br>nine-banded armadillo<br>desert cottontail<br>nutria<br>red squirrel",
           1
          ],
          [
           "domestic chicken<br>pronghorn<br>domestic cattle<br>white-tailed deer<br>wild boar<br>nine-banded armadillo<br>plains zebra<br>bushy-tailed woodrat<br>nutria<br>red squirrel<br>western pond turtle",
           1
          ],
          [
           "domestic chicken<br>domestic cattle<br>white-tailed deer<br>wild boar<br>nutria<br>red squirrel",
           1
          ],
          [
           "domestic chicken<br>white-tailed deer<br>wild boar<br>spotted paca<br>red squirrel",
           1
          ],
          [
           "domestic chicken<br>domestic cattle<br>white-tailed deer<br>wild boar<br>nine-banded armadillo<br>red squirrel",
           1
          ],
          [
           "domestic chicken<br>pronghorn<br>domestic cattle<br>white-tailed deer<br>desert cottontail<br>bushy-tailed woodrat<br>red squirrel",
           1
          ],
          [
           "domestic chicken<br>domestic cattle<br>white-tailed deer<br>wild boar<br>nine-banded armadillo<br>nutria<br>red squirrel",
           1
          ],
          [
           "domestic chicken<br>fossa<br>pronghorn<br>domestic cattle<br>guenther's dik-dik<br>white-tailed deer<br>wild boar<br>collared peccary<br>white-lipped peccary<br>nine-banded armadillo<br>desert cottontail<br>plains zebra<br>bushy-tailed woodrat<br>central american agouti<br>nutria",
           1
          ],
          [
           "domestic chicken<br>pronghorn<br>domestic cattle<br>white-tailed deer<br>wild boar<br>desert cottontail<br>plains zebra<br>bushy-tailed woodrat<br>spotted paca<br>nutria<br>red squirrel",
           1
          ],
          [
           "domestic chicken<br>domestic cattle<br>white-tailed deer<br>wild boar<br>nutria<br>red squirrel",
           1
          ],
          [
           "domestic chicken<br>domestic cattle<br>white-tailed deer<br>wild boar<br>red squirrel",
           1
          ],
          [
           "domestic chicken<br>pronghorn<br>domestic cattle<br>white-tailed deer<br>wild boar<br>nine-banded armadillo<br>common wombat<br>plains zebra<br>bushy-tailed woodrat<br>spotted paca<br>red acouchi<br>nutria<br>red squirrel",
           1
          ],
          [
           "domestic chicken<br>domestic cattle<br>white-tailed deer<br>wild boar<br>nutria<br>red squirrel",
           1
          ],
          [
           "domestic chicken<br>white-tailed deer<br>red squirrel",
           1
          ],
          [
           "domestic chicken<br>pronghorn<br>domestic cattle<br>white-tailed deer<br>wild boar<br>desert cottontail<br>bushy-tailed woodrat<br>nutria<br>red squirrel",
           1
          ]
         ],
         "geo": "geo",
         "hovertemplate": "<b>%{location}</b><br>Species:<br>%{customdata[0]}<extra></extra>",
         "hovertext": [
          "AK",
          "AL",
          "AR",
          "AZ",
          "CA",
          "CO",
          "CT",
          "DC",
          "DE",
          "FL",
          "GA",
          "HI",
          "IA",
          "ID",
          "IL",
          "IN",
          "KS",
          "KY",
          "LA",
          "MA",
          "MD",
          "ME",
          "MI",
          "MN",
          "MO",
          "MS",
          "MT",
          "NC",
          "ND",
          "NE",
          "NH",
          "NJ",
          "NM",
          "NV",
          "NY",
          "OH",
          "OK",
          "OR",
          "PA",
          "RI",
          "SC",
          "SD",
          "TN",
          "TX",
          "UT",
          "VA",
          "VT",
          "WA",
          "WI",
          "WV",
          "WY"
         ],
         "locationmode": "USA-states",
         "locations": [
          "AK",
          "AL",
          "AR",
          "AZ",
          "CA",
          "CO",
          "CT",
          "DC",
          "DE",
          "FL",
          "GA",
          "HI",
          "IA",
          "ID",
          "IL",
          "IN",
          "KS",
          "KY",
          "LA",
          "MA",
          "MD",
          "ME",
          "MI",
          "MN",
          "MO",
          "MS",
          "MT",
          "NC",
          "ND",
          "NE",
          "NH",
          "NJ",
          "NM",
          "NV",
          "NY",
          "OH",
          "OK",
          "OR",
          "PA",
          "RI",
          "SC",
          "SD",
          "TN",
          "TX",
          "UT",
          "VA",
          "VT",
          "WA",
          "WI",
          "WV",
          "WY"
         ],
         "name": "",
         "type": "choropleth",
         "z": {
          "bdata": "AQEBAQEBAQEBAQEBAQEBAQEBAQEBAQEBAQEBAQEBAQEBAQEBAQEBAQEBAQEBAQEBAQEB",
          "dtype": "i1"
         }
        }
       ],
       "layout": {
        "coloraxis": {
         "colorbar": {
          "title": {
           "text": "presence"
          }
         },
         "colorscale": [
          [
           0,
           "#440154"
          ],
          [
           0.1111111111111111,
           "#482878"
          ],
          [
           0.2222222222222222,
           "#3e4989"
          ],
          [
           0.3333333333333333,
           "#31688e"
          ],
          [
           0.4444444444444444,
           "#26828e"
          ],
          [
           0.5555555555555556,
           "#1f9e89"
          ],
          [
           0.6666666666666666,
           "#35b779"
          ],
          [
           0.7777777777777778,
           "#6ece58"
          ],
          [
           0.8888888888888888,
           "#b5de2b"
          ],
          [
           1,
           "#fde725"
          ]
         ]
        },
        "geo": {
         "center": {},
         "domain": {
          "x": [
           0,
           1
          ],
          "y": [
           0,
           1
          ]
         },
         "scope": "usa"
        },
        "legend": {
         "tracegroupgap": 0
        },
        "template": {
         "data": {
          "bar": [
           {
            "error_x": {
             "color": "#2a3f5f"
            },
            "error_y": {
             "color": "#2a3f5f"
            },
            "marker": {
             "line": {
              "color": "#E5ECF6",
              "width": 0.5
             },
             "pattern": {
              "fillmode": "overlay",
              "size": 10,
              "solidity": 0.2
             }
            },
            "type": "bar"
           }
          ],
          "barpolar": [
           {
            "marker": {
             "line": {
              "color": "#E5ECF6",
              "width": 0.5
             },
             "pattern": {
              "fillmode": "overlay",
              "size": 10,
              "solidity": 0.2
             }
            },
            "type": "barpolar"
           }
          ],
          "carpet": [
           {
            "aaxis": {
             "endlinecolor": "#2a3f5f",
             "gridcolor": "white",
             "linecolor": "white",
             "minorgridcolor": "white",
             "startlinecolor": "#2a3f5f"
            },
            "baxis": {
             "endlinecolor": "#2a3f5f",
             "gridcolor": "white",
             "linecolor": "white",
             "minorgridcolor": "white",
             "startlinecolor": "#2a3f5f"
            },
            "type": "carpet"
           }
          ],
          "choropleth": [
           {
            "colorbar": {
             "outlinewidth": 0,
             "ticks": ""
            },
            "type": "choropleth"
           }
          ],
          "contour": [
           {
            "colorbar": {
             "outlinewidth": 0,
             "ticks": ""
            },
            "colorscale": [
             [
              0,
              "#0d0887"
             ],
             [
              0.1111111111111111,
              "#46039f"
             ],
             [
              0.2222222222222222,
              "#7201a8"
             ],
             [
              0.3333333333333333,
              "#9c179e"
             ],
             [
              0.4444444444444444,
              "#bd3786"
             ],
             [
              0.5555555555555556,
              "#d8576b"
             ],
             [
              0.6666666666666666,
              "#ed7953"
             ],
             [
              0.7777777777777778,
              "#fb9f3a"
             ],
             [
              0.8888888888888888,
              "#fdca26"
             ],
             [
              1,
              "#f0f921"
             ]
            ],
            "type": "contour"
           }
          ],
          "contourcarpet": [
           {
            "colorbar": {
             "outlinewidth": 0,
             "ticks": ""
            },
            "type": "contourcarpet"
           }
          ],
          "heatmap": [
           {
            "colorbar": {
             "outlinewidth": 0,
             "ticks": ""
            },
            "colorscale": [
             [
              0,
              "#0d0887"
             ],
             [
              0.1111111111111111,
              "#46039f"
             ],
             [
              0.2222222222222222,
              "#7201a8"
             ],
             [
              0.3333333333333333,
              "#9c179e"
             ],
             [
              0.4444444444444444,
              "#bd3786"
             ],
             [
              0.5555555555555556,
              "#d8576b"
             ],
             [
              0.6666666666666666,
              "#ed7953"
             ],
             [
              0.7777777777777778,
              "#fb9f3a"
             ],
             [
              0.8888888888888888,
              "#fdca26"
             ],
             [
              1,
              "#f0f921"
             ]
            ],
            "type": "heatmap"
           }
          ],
          "histogram": [
           {
            "marker": {
             "pattern": {
              "fillmode": "overlay",
              "size": 10,
              "solidity": 0.2
             }
            },
            "type": "histogram"
           }
          ],
          "histogram2d": [
           {
            "colorbar": {
             "outlinewidth": 0,
             "ticks": ""
            },
            "colorscale": [
             [
              0,
              "#0d0887"
             ],
             [
              0.1111111111111111,
              "#46039f"
             ],
             [
              0.2222222222222222,
              "#7201a8"
             ],
             [
              0.3333333333333333,
              "#9c179e"
             ],
             [
              0.4444444444444444,
              "#bd3786"
             ],
             [
              0.5555555555555556,
              "#d8576b"
             ],
             [
              0.6666666666666666,
              "#ed7953"
             ],
             [
              0.7777777777777778,
              "#fb9f3a"
             ],
             [
              0.8888888888888888,
              "#fdca26"
             ],
             [
              1,
              "#f0f921"
             ]
            ],
            "type": "histogram2d"
           }
          ],
          "histogram2dcontour": [
           {
            "colorbar": {
             "outlinewidth": 0,
             "ticks": ""
            },
            "colorscale": [
             [
              0,
              "#0d0887"
             ],
             [
              0.1111111111111111,
              "#46039f"
             ],
             [
              0.2222222222222222,
              "#7201a8"
             ],
             [
              0.3333333333333333,
              "#9c179e"
             ],
             [
              0.4444444444444444,
              "#bd3786"
             ],
             [
              0.5555555555555556,
              "#d8576b"
             ],
             [
              0.6666666666666666,
              "#ed7953"
             ],
             [
              0.7777777777777778,
              "#fb9f3a"
             ],
             [
              0.8888888888888888,
              "#fdca26"
             ],
             [
              1,
              "#f0f921"
             ]
            ],
            "type": "histogram2dcontour"
           }
          ],
          "mesh3d": [
           {
            "colorbar": {
             "outlinewidth": 0,
             "ticks": ""
            },
            "type": "mesh3d"
           }
          ],
          "parcoords": [
           {
            "line": {
             "colorbar": {
              "outlinewidth": 0,
              "ticks": ""
             }
            },
            "type": "parcoords"
           }
          ],
          "pie": [
           {
            "automargin": true,
            "type": "pie"
           }
          ],
          "scatter": [
           {
            "fillpattern": {
             "fillmode": "overlay",
             "size": 10,
             "solidity": 0.2
            },
            "type": "scatter"
           }
          ],
          "scatter3d": [
           {
            "line": {
             "colorbar": {
              "outlinewidth": 0,
              "ticks": ""
             }
            },
            "marker": {
             "colorbar": {
              "outlinewidth": 0,
              "ticks": ""
             }
            },
            "type": "scatter3d"
           }
          ],
          "scattercarpet": [
           {
            "marker": {
             "colorbar": {
              "outlinewidth": 0,
              "ticks": ""
             }
            },
            "type": "scattercarpet"
           }
          ],
          "scattergeo": [
           {
            "marker": {
             "colorbar": {
              "outlinewidth": 0,
              "ticks": ""
             }
            },
            "type": "scattergeo"
           }
          ],
          "scattergl": [
           {
            "marker": {
             "colorbar": {
              "outlinewidth": 0,
              "ticks": ""
             }
            },
            "type": "scattergl"
           }
          ],
          "scattermap": [
           {
            "marker": {
             "colorbar": {
              "outlinewidth": 0,
              "ticks": ""
             }
            },
            "type": "scattermap"
           }
          ],
          "scattermapbox": [
           {
            "marker": {
             "colorbar": {
              "outlinewidth": 0,
              "ticks": ""
             }
            },
            "type": "scattermapbox"
           }
          ],
          "scatterpolar": [
           {
            "marker": {
             "colorbar": {
              "outlinewidth": 0,
              "ticks": ""
             }
            },
            "type": "scatterpolar"
           }
          ],
          "scatterpolargl": [
           {
            "marker": {
             "colorbar": {
              "outlinewidth": 0,
              "ticks": ""
             }
            },
            "type": "scatterpolargl"
           }
          ],
          "scatterternary": [
           {
            "marker": {
             "colorbar": {
              "outlinewidth": 0,
              "ticks": ""
             }
            },
            "type": "scatterternary"
           }
          ],
          "surface": [
           {
            "colorbar": {
             "outlinewidth": 0,
             "ticks": ""
            },
            "colorscale": [
             [
              0,
              "#0d0887"
             ],
             [
              0.1111111111111111,
              "#46039f"
             ],
             [
              0.2222222222222222,
              "#7201a8"
             ],
             [
              0.3333333333333333,
              "#9c179e"
             ],
             [
              0.4444444444444444,
              "#bd3786"
             ],
             [
              0.5555555555555556,
              "#d8576b"
             ],
             [
              0.6666666666666666,
              "#ed7953"
             ],
             [
              0.7777777777777778,
              "#fb9f3a"
             ],
             [
              0.8888888888888888,
              "#fdca26"
             ],
             [
              1,
              "#f0f921"
             ]
            ],
            "type": "surface"
           }
          ],
          "table": [
           {
            "cells": {
             "fill": {
              "color": "#EBF0F8"
             },
             "line": {
              "color": "white"
             }
            },
            "header": {
             "fill": {
              "color": "#C8D4E3"
             },
             "line": {
              "color": "white"
             }
            },
            "type": "table"
           }
          ]
         },
         "layout": {
          "annotationdefaults": {
           "arrowcolor": "#2a3f5f",
           "arrowhead": 0,
           "arrowwidth": 1
          },
          "autotypenumbers": "strict",
          "coloraxis": {
           "colorbar": {
            "outlinewidth": 0,
            "ticks": ""
           }
          },
          "colorscale": {
           "diverging": [
            [
             0,
             "#8e0152"
            ],
            [
             0.1,
             "#c51b7d"
            ],
            [
             0.2,
             "#de77ae"
            ],
            [
             0.3,
             "#f1b6da"
            ],
            [
             0.4,
             "#fde0ef"
            ],
            [
             0.5,
             "#f7f7f7"
            ],
            [
             0.6,
             "#e6f5d0"
            ],
            [
             0.7,
             "#b8e186"
            ],
            [
             0.8,
             "#7fbc41"
            ],
            [
             0.9,
             "#4d9221"
            ],
            [
             1,
             "#276419"
            ]
           ],
           "sequential": [
            [
             0,
             "#0d0887"
            ],
            [
             0.1111111111111111,
             "#46039f"
            ],
            [
             0.2222222222222222,
             "#7201a8"
            ],
            [
             0.3333333333333333,
             "#9c179e"
            ],
            [
             0.4444444444444444,
             "#bd3786"
            ],
            [
             0.5555555555555556,
             "#d8576b"
            ],
            [
             0.6666666666666666,
             "#ed7953"
            ],
            [
             0.7777777777777778,
             "#fb9f3a"
            ],
            [
             0.8888888888888888,
             "#fdca26"
            ],
            [
             1,
             "#f0f921"
            ]
           ],
           "sequentialminus": [
            [
             0,
             "#0d0887"
            ],
            [
             0.1111111111111111,
             "#46039f"
            ],
            [
             0.2222222222222222,
             "#7201a8"
            ],
            [
             0.3333333333333333,
             "#9c179e"
            ],
            [
             0.4444444444444444,
             "#bd3786"
            ],
            [
             0.5555555555555556,
             "#d8576b"
            ],
            [
             0.6666666666666666,
             "#ed7953"
            ],
            [
             0.7777777777777778,
             "#fb9f3a"
            ],
            [
             0.8888888888888888,
             "#fdca26"
            ],
            [
             1,
             "#f0f921"
            ]
           ]
          },
          "colorway": [
           "#636efa",
           "#EF553B",
           "#00cc96",
           "#ab63fa",
           "#FFA15A",
           "#19d3f3",
           "#FF6692",
           "#B6E880",
           "#FF97FF",
           "#FECB52"
          ],
          "font": {
           "color": "#2a3f5f"
          },
          "geo": {
           "bgcolor": "white",
           "lakecolor": "white",
           "landcolor": "#E5ECF6",
           "showlakes": true,
           "showland": true,
           "subunitcolor": "white"
          },
          "hoverlabel": {
           "align": "left"
          },
          "hovermode": "closest",
          "mapbox": {
           "style": "light"
          },
          "paper_bgcolor": "white",
          "plot_bgcolor": "#E5ECF6",
          "polar": {
           "angularaxis": {
            "gridcolor": "white",
            "linecolor": "white",
            "ticks": ""
           },
           "bgcolor": "#E5ECF6",
           "radialaxis": {
            "gridcolor": "white",
            "linecolor": "white",
            "ticks": ""
           }
          },
          "scene": {
           "xaxis": {
            "backgroundcolor": "#E5ECF6",
            "gridcolor": "white",
            "gridwidth": 2,
            "linecolor": "white",
            "showbackground": true,
            "ticks": "",
            "zerolinecolor": "white"
           },
           "yaxis": {
            "backgroundcolor": "#E5ECF6",
            "gridcolor": "white",
            "gridwidth": 2,
            "linecolor": "white",
            "showbackground": true,
            "ticks": "",
            "zerolinecolor": "white"
           },
           "zaxis": {
            "backgroundcolor": "#E5ECF6",
            "gridcolor": "white",
            "gridwidth": 2,
            "linecolor": "white",
            "showbackground": true,
            "ticks": "",
            "zerolinecolor": "white"
           }
          },
          "shapedefaults": {
           "line": {
            "color": "#2a3f5f"
           }
          },
          "ternary": {
           "aaxis": {
            "gridcolor": "white",
            "linecolor": "white",
            "ticks": ""
           },
           "baxis": {
            "gridcolor": "white",
            "linecolor": "white",
            "ticks": ""
           },
           "bgcolor": "#E5ECF6",
           "caxis": {
            "gridcolor": "white",
            "linecolor": "white",
            "ticks": ""
           }
          },
          "title": {
           "x": 0.05
          },
          "xaxis": {
           "automargin": true,
           "gridcolor": "white",
           "linecolor": "white",
           "ticks": "",
           "title": {
            "standoff": 15
           },
           "zerolinecolor": "white",
           "zerolinewidth": 2
          },
          "yaxis": {
           "automargin": true,
           "gridcolor": "white",
           "linecolor": "white",
           "ticks": "",
           "title": {
            "standoff": 15
           },
           "zerolinecolor": "white",
           "zerolinewidth": 2
          }
         }
        },
        "title": {
         "text": "Species Occurrence by US State"
        }
       }
      }
     },
     "metadata": {},
     "output_type": "display_data"
    }
   ],
   "source": [
    "# Group by state to aggregate species names\n",
    "df_grouped = df_exploded.groupby('state_code')['common_name'].apply(lambda x: '<br>'.join(x.unique())).reset_index()\n",
    "\n",
    "# Add presence column (all 1s)\n",
    "df_grouped['presence'] = 1\n",
    "\n",
    "# Plot US choropleth\n",
    "fig = px.choropleth(\n",
    "    df_grouped,\n",
    "    locations='state_code',\n",
    "    locationmode='USA-states',\n",
    "    color='presence',\n",
    "    hover_name='state_code',\n",
    "    hover_data={'common_name': True, 'presence': False},\n",
    "    scope='usa',\n",
    "    color_continuous_scale='Viridis',\n",
    "    labels={'common_name': 'Species Found'},\n",
    "    title='Species Occurrence by US State'\n",
    ")\n",
    "\n",
    "fig.update_traces(\n",
    "    hovertemplate='<b>%{location}</b><br>Species:<br>%{customdata[0]}<extra></extra>'\n",
    ")\n",
    "\n",
    "fig.show()"
   ]
  },
  {
   "cell_type": "markdown",
   "id": "cc78b44d",
   "metadata": {},
   "source": [
    "Interesting that even after all of that - keeping the states as the location doesn't exclude everything - some of our missmatched list are in fact in Illinois Still.\n",
    "\n",
    "BUT - we can subset our list now to species that definitely aren't in illinois (IL)"
   ]
  },
  {
   "cell_type": "code",
   "execution_count": 79,
   "id": "a567a78a",
   "metadata": {},
   "outputs": [
    {
     "data": {
      "text/html": [
       "<div>\n",
       "<style scoped>\n",
       "    .dataframe tbody tr th:only-of-type {\n",
       "        vertical-align: middle;\n",
       "    }\n",
       "\n",
       "    .dataframe tbody tr th {\n",
       "        vertical-align: top;\n",
       "    }\n",
       "\n",
       "    .dataframe thead th {\n",
       "        text-align: right;\n",
       "    }\n",
       "</style>\n",
       "<table border=\"1\" class=\"dataframe\">\n",
       "  <thead>\n",
       "    <tr style=\"text-align: right;\">\n",
       "      <th></th>\n",
       "      <th>common_name</th>\n",
       "      <th>state_code</th>\n",
       "    </tr>\n",
       "  </thead>\n",
       "  <tbody>\n",
       "    <tr>\n",
       "      <th>0</th>\n",
       "      <td>bushy-tailed woodrat</td>\n",
       "      <td>[CO, CA, WY, OR, UT, WA, NM, MT, SD, NV, ID, N...</td>\n",
       "    </tr>\n",
       "    <tr>\n",
       "      <th>1</th>\n",
       "      <td>central american agouti</td>\n",
       "      <td>[TX]</td>\n",
       "    </tr>\n",
       "    <tr>\n",
       "      <th>2</th>\n",
       "      <td>collared peccary</td>\n",
       "      <td>[TX, AZ, NM, CA, AZ, TX, CO, TX, HI, FL, NM]</td>\n",
       "    </tr>\n",
       "    <tr>\n",
       "      <th>3</th>\n",
       "      <td>common wombat</td>\n",
       "      <td>[NM, WA]</td>\n",
       "    </tr>\n",
       "    <tr>\n",
       "      <th>4</th>\n",
       "      <td>crocodile</td>\n",
       "      <td>[FL]</td>\n",
       "    </tr>\n",
       "    <tr>\n",
       "      <th>5</th>\n",
       "      <td>desert cottontail</td>\n",
       "      <td>[CA, AZ, CO, NM, TX, NV, UT, WY, MT, NE, SD, K...</td>\n",
       "    </tr>\n",
       "    <tr>\n",
       "      <th>6</th>\n",
       "      <td>domestic cattle</td>\n",
       "      <td>[TX, OK, NV, FL, UT, NM, CO, HI, CA, OR, AZ, M...</td>\n",
       "    </tr>\n",
       "    <tr>\n",
       "      <th>7</th>\n",
       "      <td>domestic chicken</td>\n",
       "      <td>[HI, FL, CA, TX, NC, LA, WA, PA, NY, SC, GA, O...</td>\n",
       "    </tr>\n",
       "    <tr>\n",
       "      <th>8</th>\n",
       "      <td>fossa</td>\n",
       "      <td>[NE, TX]</td>\n",
       "    </tr>\n",
       "    <tr>\n",
       "      <th>9</th>\n",
       "      <td>guenther's dik-dik</td>\n",
       "      <td>[TX]</td>\n",
       "    </tr>\n",
       "    <tr>\n",
       "      <th>10</th>\n",
       "      <td>nine-banded armadillo</td>\n",
       "      <td>[TX, FL, GA, OK, LA, AL, AR, SC, MO, TN, MS, K...</td>\n",
       "    </tr>\n",
       "    <tr>\n",
       "      <th>11</th>\n",
       "      <td>nutria</td>\n",
       "      <td>[TX, OR, LA, OR, NC, WA, TX, FL, WA, LA, MS, A...</td>\n",
       "    </tr>\n",
       "    <tr>\n",
       "      <th>12</th>\n",
       "      <td>ocellated turkey</td>\n",
       "      <td>[CA, FL, HI, OK]</td>\n",
       "    </tr>\n",
       "    <tr>\n",
       "      <th>13</th>\n",
       "      <td>plains zebra</td>\n",
       "      <td>[CA, NM, TX, WA, AK, CO, MA, OH, OR, UT]</td>\n",
       "    </tr>\n",
       "    <tr>\n",
       "      <th>14</th>\n",
       "      <td>pronghorn</td>\n",
       "      <td>[WY, CO, NM, UT, AZ, SD, MT, OR, ID, TX, NV, C...</td>\n",
       "    </tr>\n",
       "    <tr>\n",
       "      <th>15</th>\n",
       "      <td>red acouchi</td>\n",
       "      <td>[NE, NY, WA]</td>\n",
       "    </tr>\n",
       "    <tr>\n",
       "      <th>16</th>\n",
       "      <td>red squirrel</td>\n",
       "      <td>[VT, AK, NY, MI, MN, ME, CO, MT, OH, WY, MA, U...</td>\n",
       "    </tr>\n",
       "    <tr>\n",
       "      <th>17</th>\n",
       "      <td>rufescent tiger-heron</td>\n",
       "      <td>[HI]</td>\n",
       "    </tr>\n",
       "    <tr>\n",
       "      <th>18</th>\n",
       "      <td>spotted paca</td>\n",
       "      <td>[CO, CA, RI, UT, WA]</td>\n",
       "    </tr>\n",
       "    <tr>\n",
       "      <th>19</th>\n",
       "      <td>western pond turtle</td>\n",
       "      <td>[CA, OR, NV]</td>\n",
       "    </tr>\n",
       "    <tr>\n",
       "      <th>20</th>\n",
       "      <td>white-lipped peccary</td>\n",
       "      <td>[TX, CO, TX]</td>\n",
       "    </tr>\n",
       "    <tr>\n",
       "      <th>21</th>\n",
       "      <td>white-tailed deer</td>\n",
       "      <td>[TX, FL, VA, NY, PA, NC, OH, MD, MI, MN, TN, V...</td>\n",
       "    </tr>\n",
       "    <tr>\n",
       "      <th>22</th>\n",
       "      <td>wild boar</td>\n",
       "      <td>[TX, CA, FL, HI, GA, SC, LA, MS, TN, AL, OK, N...</td>\n",
       "    </tr>\n",
       "  </tbody>\n",
       "</table>\n",
       "</div>"
      ],
      "text/plain": [
       "                common_name                                         state_code\n",
       "0      bushy-tailed woodrat  [CO, CA, WY, OR, UT, WA, NM, MT, SD, NV, ID, N...\n",
       "1   central american agouti                                               [TX]\n",
       "2          collared peccary       [TX, AZ, NM, CA, AZ, TX, CO, TX, HI, FL, NM]\n",
       "3             common wombat                                           [NM, WA]\n",
       "4                 crocodile                                               [FL]\n",
       "5         desert cottontail  [CA, AZ, CO, NM, TX, NV, UT, WY, MT, NE, SD, K...\n",
       "6           domestic cattle  [TX, OK, NV, FL, UT, NM, CO, HI, CA, OR, AZ, M...\n",
       "7          domestic chicken  [HI, FL, CA, TX, NC, LA, WA, PA, NY, SC, GA, O...\n",
       "8                     fossa                                           [NE, TX]\n",
       "9        guenther's dik-dik                                               [TX]\n",
       "10    nine-banded armadillo  [TX, FL, GA, OK, LA, AL, AR, SC, MO, TN, MS, K...\n",
       "11                   nutria  [TX, OR, LA, OR, NC, WA, TX, FL, WA, LA, MS, A...\n",
       "12         ocellated turkey                                   [CA, FL, HI, OK]\n",
       "13             plains zebra           [CA, NM, TX, WA, AK, CO, MA, OH, OR, UT]\n",
       "14                pronghorn  [WY, CO, NM, UT, AZ, SD, MT, OR, ID, TX, NV, C...\n",
       "15              red acouchi                                       [NE, NY, WA]\n",
       "16             red squirrel  [VT, AK, NY, MI, MN, ME, CO, MT, OH, WY, MA, U...\n",
       "17    rufescent tiger-heron                                               [HI]\n",
       "18             spotted paca                               [CO, CA, RI, UT, WA]\n",
       "19      western pond turtle                                       [CA, OR, NV]\n",
       "20     white-lipped peccary                                       [TX, CO, TX]\n",
       "21        white-tailed deer  [TX, FL, VA, NY, PA, NC, OH, MD, MI, MN, TN, V...\n",
       "22                wild boar  [TX, CA, FL, HI, GA, SC, LA, MS, TN, AL, OK, N..."
      ]
     },
     "metadata": {},
     "output_type": "display_data"
    }
   ],
   "source": [
    "# Grab the common_name species from the list where IL is not one of the states\n",
    "df_definite = df_exploded.loc[df_exploded['state_code'] != \"IL\", ['common_name', 'state_code']]\n",
    "\n",
    "df_definite = df_definite.groupby('common_name')['state_code'].agg(list).reset_index()\n",
    "\n",
    "df_definite.to_csv('subset_definitely_not_in_illinois.csv')\n",
    "display(df_definite)"
   ]
  },
  {
   "cell_type": "markdown",
   "id": "bdfe1771",
   "metadata": {},
   "source": [
    "This demonstrates the framework we would need for geofencing and checking geofence in the future.  \n",
    "\n",
    "We could also use this type of api search to generate a valid geofence by state list for SpeciesNet if desired."
   ]
  }
 ],
 "metadata": {
  "kernelspec": {
   "display_name": "kaggle",
   "language": "python",
   "name": "python3"
  },
  "language_info": {
   "codemirror_mode": {
    "name": "ipython",
    "version": 3
   },
   "file_extension": ".py",
   "mimetype": "text/x-python",
   "name": "python",
   "nbconvert_exporter": "python",
   "pygments_lexer": "ipython3",
   "version": "3.12.9"
  }
 },
 "nbformat": 4,
 "nbformat_minor": 5
}
